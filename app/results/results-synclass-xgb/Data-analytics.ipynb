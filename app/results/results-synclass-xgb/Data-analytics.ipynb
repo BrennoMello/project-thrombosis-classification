{
 "cells": [
  {
   "cell_type": "code",
   "execution_count": 8,
   "metadata": {},
   "outputs": [],
   "source": [
    "import pandas as pd \n",
    "import numpy as np\n",
    "from loguru import logger as log"
   ]
  },
  {
   "cell_type": "code",
   "execution_count": 12,
   "metadata": {},
   "outputs": [
    {
     "name": "stderr",
     "output_type": "stream",
     "text": [
      "2022-08-01 03:03:29.177 | INFO     | __main__:<module>:8 - MODEL Thresh -0.1 with F1: 0.33 count: 50\n",
      "2022-08-01 03:03:29.179 | INFO     | __main__:<module>:8 - MODEL Thresh -0.09 with F1: 0.33 count: 50\n",
      "2022-08-01 03:03:29.182 | INFO     | __main__:<module>:8 - MODEL Thresh -0.08 with F1: 0.33 count: 50\n",
      "2022-08-01 03:03:29.185 | INFO     | __main__:<module>:8 - MODEL Thresh -0.07 with F1: 0.33 count: 50\n",
      "2022-08-01 03:03:29.189 | INFO     | __main__:<module>:8 - MODEL Thresh -0.06 with F1: 0.33 count: 50\n",
      "2022-08-01 03:03:29.192 | INFO     | __main__:<module>:8 - MODEL Thresh -0.05 with F1: 0.33 count: 50\n",
      "2022-08-01 03:03:29.195 | INFO     | __main__:<module>:8 - MODEL Thresh -0.04 with F1: 0.33 count: 50\n",
      "2022-08-01 03:03:29.198 | INFO     | __main__:<module>:8 - MODEL Thresh -0.03 with F1: 0.33 count: 50\n",
      "2022-08-01 03:03:29.201 | INFO     | __main__:<module>:8 - MODEL Thresh -0.02 with F1: 0.33 count: 50\n",
      "2022-08-01 03:03:29.211 | INFO     | __main__:<module>:8 - MODEL Thresh -0.01 with F1: 0.33 count: 50\n",
      "2022-08-01 03:03:29.214 | INFO     | __main__:<module>:8 - MODEL Thresh -5.551115123125783e-17 with F1: 0.33 count: 50\n",
      "2022-08-01 03:03:29.217 | INFO     | __main__:<module>:8 - MODEL Thresh 0.0099999999999999 with F1: 0.7 count: 50\n",
      "2022-08-01 03:03:29.219 | INFO     | __main__:<module>:8 - MODEL Thresh 0.0199999999999999 with F1: 0.7 count: 50\n",
      "2022-08-01 03:03:29.222 | INFO     | __main__:<module>:8 - MODEL Thresh 0.0299999999999999 with F1: 0.7 count: 50\n",
      "2022-08-01 03:03:29.228 | INFO     | __main__:<module>:8 - MODEL Thresh 0.0399999999999999 with F1: 0.7 count: 50\n",
      "2022-08-01 03:03:29.234 | INFO     | __main__:<module>:8 - MODEL Thresh 0.0499999999999999 with F1: 0.7 count: 50\n",
      "2022-08-01 03:03:29.239 | INFO     | __main__:<module>:8 - MODEL Thresh 0.0599999999999999 with F1: 0.7 count: 50\n",
      "2022-08-01 03:03:29.243 | INFO     | __main__:<module>:8 - MODEL Thresh 0.0699999999999999 with F1: 0.7 count: 50\n",
      "2022-08-01 03:03:29.247 | INFO     | __main__:<module>:8 - MODEL Thresh 0.0799999999999999 with F1: 0.7 count: 50\n",
      "2022-08-01 03:03:29.250 | INFO     | __main__:<module>:8 - MODEL Thresh 0.0899999999999998 with F1: 0.7 count: 50\n",
      "2022-08-01 03:03:29.253 | INFO     | __main__:<module>:8 - MODEL Thresh 0.0999999999999999 with F1: 0.65 count: 50\n",
      "2022-08-01 03:03:29.258 | INFO     | __main__:<module>:8 - MODEL Thresh 0.1099999999999999 with F1: 0.63 count: 50\n",
      "2022-08-01 03:03:29.265 | INFO     | __main__:<module>:8 - MODEL Thresh 0.1199999999999998 with F1: 0.63 count: 50\n",
      "2022-08-01 03:03:29.267 | INFO     | __main__:<module>:8 - MODEL Thresh 0.1299999999999998 with F1: 0.63 count: 50\n",
      "2022-08-01 03:03:29.271 | INFO     | __main__:<module>:8 - MODEL Thresh 0.1399999999999998 with F1: 0.63 count: 50\n",
      "2022-08-01 03:03:29.273 | INFO     | __main__:<module>:8 - MODEL Thresh 0.1499999999999998 with F1: 0.64 count: 50\n",
      "2022-08-01 03:03:29.277 | INFO     | __main__:<module>:8 - MODEL Thresh 0.1599999999999999 with F1: 0.66 count: 50\n",
      "2022-08-01 03:03:29.279 | INFO     | __main__:<module>:8 - MODEL Thresh 0.1699999999999998 with F1: 0.69 count: 50\n",
      "2022-08-01 03:03:29.282 | INFO     | __main__:<module>:8 - MODEL Thresh 0.1799999999999998 with F1: 0.67 count: 50\n",
      "2022-08-01 03:03:29.285 | INFO     | __main__:<module>:8 - MODEL Thresh 0.1899999999999998 with F1: 0.67 count: 50\n",
      "2022-08-01 03:03:29.288 | INFO     | __main__:<module>:8 - MODEL Thresh 0.1999999999999998 with F1: 0.64 count: 50\n",
      "2022-08-01 03:03:29.291 | INFO     | __main__:<module>:8 - MODEL Thresh 0.2099999999999998 with F1: 0.64 count: 50\n",
      "2022-08-01 03:03:29.295 | INFO     | __main__:<module>:8 - MODEL Thresh 0.2199999999999998 with F1: 0.64 count: 50\n",
      "2022-08-01 03:03:29.298 | INFO     | __main__:<module>:8 - MODEL Thresh 0.2299999999999998 with F1: 0.64 count: 50\n",
      "2022-08-01 03:03:29.301 | INFO     | __main__:<module>:8 - MODEL Thresh 0.2399999999999998 with F1: 0.64 count: 50\n",
      "2022-08-01 03:03:29.304 | INFO     | __main__:<module>:8 - MODEL Thresh 0.2499999999999998 with F1: 0.63 count: 50\n",
      "2022-08-01 03:03:29.307 | INFO     | __main__:<module>:8 - MODEL Thresh 0.2599999999999998 with F1: 0.64 count: 50\n",
      "2022-08-01 03:03:29.313 | INFO     | __main__:<module>:8 - MODEL Thresh 0.2699999999999998 with F1: 0.62 count: 50\n",
      "2022-08-01 03:03:29.316 | INFO     | __main__:<module>:8 - MODEL Thresh 0.2799999999999998 with F1: 0.62 count: 50\n",
      "2022-08-01 03:03:29.319 | INFO     | __main__:<module>:8 - MODEL Thresh 0.2899999999999998 with F1: 0.62 count: 50\n",
      "2022-08-01 03:03:29.323 | INFO     | __main__:<module>:8 - MODEL Thresh 0.2999999999999998 with F1: 0.62 count: 50\n",
      "2022-08-01 03:03:29.327 | INFO     | __main__:<module>:8 - MODEL Thresh 0.3099999999999998 with F1: 0.62 count: 50\n",
      "2022-08-01 03:03:29.332 | INFO     | __main__:<module>:8 - MODEL Thresh 0.3199999999999998 with F1: 0.61 count: 50\n",
      "2022-08-01 03:03:29.335 | INFO     | __main__:<module>:8 - MODEL Thresh 0.3299999999999997 with F1: 0.61 count: 50\n",
      "2022-08-01 03:03:29.339 | INFO     | __main__:<module>:8 - MODEL Thresh 0.3399999999999997 with F1: 0.6 count: 50\n",
      "2022-08-01 03:03:29.342 | INFO     | __main__:<module>:8 - MODEL Thresh 0.3499999999999997 with F1: 0.57 count: 50\n",
      "2022-08-01 03:03:29.347 | INFO     | __main__:<module>:8 - MODEL Thresh 0.3599999999999997 with F1: 0.56 count: 50\n",
      "2022-08-01 03:03:29.350 | INFO     | __main__:<module>:8 - MODEL Thresh 0.3699999999999998 with F1: 0.54 count: 50\n",
      "2022-08-01 03:03:29.353 | INFO     | __main__:<module>:8 - MODEL Thresh 0.3799999999999998 with F1: 0.53 count: 50\n",
      "2022-08-01 03:03:29.356 | INFO     | __main__:<module>:8 - MODEL Thresh 0.3899999999999998 with F1: 0.53 count: 50\n",
      "2022-08-01 03:03:29.359 | INFO     | __main__:<module>:8 - MODEL Thresh 0.3999999999999998 with F1: 0.53 count: 50\n",
      "2022-08-01 03:03:29.364 | INFO     | __main__:<module>:8 - MODEL Thresh 0.4099999999999998 with F1: 0.52 count: 50\n",
      "2022-08-01 03:03:29.366 | INFO     | __main__:<module>:8 - MODEL Thresh 0.4199999999999998 with F1: 0.5 count: 50\n",
      "2022-08-01 03:03:29.370 | INFO     | __main__:<module>:8 - MODEL Thresh 0.4299999999999997 with F1: 0.5 count: 50\n",
      "2022-08-01 03:03:29.373 | INFO     | __main__:<module>:8 - MODEL Thresh 0.4399999999999997 with F1: 0.47 count: 50\n",
      "2022-08-01 03:03:29.376 | INFO     | __main__:<module>:8 - MODEL Thresh 0.4499999999999997 with F1: 0.47 count: 50\n",
      "2022-08-01 03:03:29.380 | INFO     | __main__:<module>:8 - MODEL Thresh 0.4599999999999997 with F1: 0.47 count: 50\n",
      "2022-08-01 03:03:29.384 | INFO     | __main__:<module>:8 - MODEL Thresh 0.4699999999999997 with F1: 0.45 count: 50\n",
      "2022-08-01 03:03:29.387 | INFO     | __main__:<module>:8 - MODEL Thresh 0.4799999999999997 with F1: 0.45 count: 50\n",
      "2022-08-01 03:03:29.389 | INFO     | __main__:<module>:8 - MODEL Thresh 0.4899999999999997 with F1: 0.45 count: 50\n",
      "2022-08-01 03:03:29.394 | INFO     | __main__:<module>:8 - MODEL Thresh 0.4999999999999996 with F1: 0.45 count: 50\n",
      "2022-08-01 03:03:29.398 | INFO     | __main__:<module>:8 - MODEL Thresh 0.5099999999999997 with F1: 0.43 count: 50\n",
      "2022-08-01 03:03:29.406 | INFO     | __main__:<module>:8 - MODEL Thresh 0.5199999999999997 with F1: 0.42 count: 50\n",
      "2022-08-01 03:03:29.409 | INFO     | __main__:<module>:8 - MODEL Thresh 0.5299999999999997 with F1: 0.42 count: 50\n",
      "2022-08-01 03:03:29.418 | INFO     | __main__:<module>:8 - MODEL Thresh 0.5399999999999997 with F1: 0.39 count: 50\n",
      "2022-08-01 03:03:29.423 | INFO     | __main__:<module>:8 - MODEL Thresh 0.5499999999999997 with F1: 0.39 count: 50\n",
      "2022-08-01 03:03:29.431 | INFO     | __main__:<module>:8 - MODEL Thresh 0.5599999999999997 with F1: 0.39 count: 50\n",
      "2022-08-01 03:03:29.437 | INFO     | __main__:<module>:8 - MODEL Thresh 0.5699999999999997 with F1: 0.39 count: 50\n",
      "2022-08-01 03:03:29.444 | INFO     | __main__:<module>:8 - MODEL Thresh 0.5799999999999997 with F1: 0.39 count: 50\n",
      "2022-08-01 03:03:29.451 | INFO     | __main__:<module>:8 - MODEL Thresh 0.5899999999999996 with F1: 0.37 count: 50\n",
      "2022-08-01 03:03:29.453 | INFO     | __main__:<module>:8 - MODEL Thresh 0.5999999999999996 with F1: 0.35 count: 50\n",
      "2022-08-01 03:03:29.457 | INFO     | __main__:<module>:8 - MODEL Thresh 0.6099999999999997 with F1: 0.35 count: 50\n",
      "2022-08-01 03:03:29.461 | INFO     | __main__:<module>:8 - MODEL Thresh 0.6199999999999997 with F1: 0.35 count: 50\n",
      "2022-08-01 03:03:29.465 | INFO     | __main__:<module>:8 - MODEL Thresh 0.6299999999999997 with F1: 0.35 count: 50\n",
      "2022-08-01 03:03:29.467 | INFO     | __main__:<module>:8 - MODEL Thresh 0.6399999999999997 with F1: 0.35 count: 50\n",
      "2022-08-01 03:03:29.471 | INFO     | __main__:<module>:8 - MODEL Thresh 0.6499999999999997 with F1: 0.35 count: 50\n",
      "2022-08-01 03:03:29.476 | INFO     | __main__:<module>:8 - MODEL Thresh 0.6599999999999996 with F1: 0.35 count: 50\n",
      "2022-08-01 03:03:29.482 | INFO     | __main__:<module>:8 - MODEL Thresh 0.6699999999999996 with F1: 0.34 count: 50\n",
      "2022-08-01 03:03:29.486 | INFO     | __main__:<module>:8 - MODEL Thresh 0.6799999999999996 with F1: 0.34 count: 50\n",
      "2022-08-01 03:03:29.492 | INFO     | __main__:<module>:8 - MODEL Thresh 0.6899999999999996 with F1: 0.34 count: 50\n",
      "2022-08-01 03:03:29.498 | INFO     | __main__:<module>:8 - MODEL Thresh 0.6999999999999996 with F1: 0.34 count: 50\n"
     ]
    }
   ],
   "source": [
    "dataframe = pd.read_csv('A_thrombosis_non_thrombosis_v5_0.2.csv')\n",
    "dataframe_filter = dataframe['THRE'].unique()\n",
    "#print(dataframe['THRE'].value_counts())\n",
    "\n",
    "for thresh in dataframe_filter:\n",
    "    df_model = dataframe[dataframe['THRE'] == thresh]\n",
    "    mean_f1 = float(f'{np.mean(df_model[\"F1\"]):.2f}')\n",
    "    log.info(f'MODEL Thresh {thresh} with F1: {mean_f1} count: {df_model.shape[0]}')\n"
   ]
  },
  {
   "cell_type": "code",
   "execution_count": null,
   "metadata": {},
   "outputs": [],
   "source": []
  }
 ],
 "metadata": {
  "kernelspec": {
   "display_name": "Python 3.9.7 64-bit",
   "language": "python",
   "name": "python3"
  },
  "language_info": {
   "codemirror_mode": {
    "name": "ipython",
    "version": 3
   },
   "file_extension": ".py",
   "mimetype": "text/x-python",
   "name": "python",
   "nbconvert_exporter": "python",
   "pygments_lexer": "ipython3",
   "version": "3.9.7"
  },
  "orig_nbformat": 4,
  "vscode": {
   "interpreter": {
    "hash": "36cf16204b8548560b1c020c4e8fb5b57f0e4c58016f52f2d4be01e192833930"
   }
  }
 },
 "nbformat": 4,
 "nbformat_minor": 2
}
