{
 "cells": [
  {
   "cell_type": "code",
   "execution_count": 2,
   "metadata": {},
   "outputs": [],
   "source": [
    "import pandas as pd \n",
    "import numpy as np\n",
    "from loguru import logger as log"
   ]
  },
  {
   "cell_type": "code",
   "execution_count": 11,
   "metadata": {},
   "outputs": [
    {
     "name": "stderr",
     "output_type": "stream",
     "text": [
      "2022-08-06 03:06:05.384 | INFO     | __main__:<module>:9 - MODEL Thresh -0.1 with F1: 0.33 count: 50\n",
      "2022-08-06 03:06:05.386 | INFO     | __main__:<module>:9 - MODEL Thresh -0.09 with F1: 0.33 count: 50\n",
      "2022-08-06 03:06:05.389 | INFO     | __main__:<module>:9 - MODEL Thresh -0.08 with F1: 0.33 count: 50\n",
      "2022-08-06 03:06:05.391 | INFO     | __main__:<module>:9 - MODEL Thresh -0.07 with F1: 0.33 count: 50\n",
      "2022-08-06 03:06:05.394 | INFO     | __main__:<module>:9 - MODEL Thresh -0.06 with F1: 0.33 count: 50\n",
      "2022-08-06 03:06:05.397 | INFO     | __main__:<module>:9 - MODEL Thresh -0.05 with F1: 0.33 count: 50\n",
      "2022-08-06 03:06:05.400 | INFO     | __main__:<module>:9 - MODEL Thresh -0.04 with F1: 0.33 count: 50\n",
      "2022-08-06 03:06:05.403 | INFO     | __main__:<module>:9 - MODEL Thresh -0.03 with F1: 0.33 count: 50\n",
      "2022-08-06 03:06:05.409 | INFO     | __main__:<module>:9 - MODEL Thresh -0.02 with F1: 0.33 count: 50\n",
      "2022-08-06 03:06:05.412 | INFO     | __main__:<module>:9 - MODEL Thresh -0.01 with F1: 0.33 count: 50\n",
      "2022-08-06 03:06:05.414 | INFO     | __main__:<module>:9 - MODEL Thresh -5.551115123125783e-17 with F1: 0.33 count: 50\n",
      "2022-08-06 03:06:05.429 | INFO     | __main__:<module>:9 - MODEL Thresh 0.0099999999999999 with F1: 0.7 count: 50\n",
      "2022-08-06 03:06:05.432 | INFO     | __main__:<module>:9 - MODEL Thresh 0.0199999999999999 with F1: 0.7 count: 50\n",
      "2022-08-06 03:06:05.442 | INFO     | __main__:<module>:9 - MODEL Thresh 0.0299999999999999 with F1: 0.7 count: 50\n",
      "2022-08-06 03:06:05.446 | INFO     | __main__:<module>:9 - MODEL Thresh 0.0399999999999999 with F1: 0.7 count: 50\n",
      "2022-08-06 03:06:05.449 | INFO     | __main__:<module>:9 - MODEL Thresh 0.0499999999999999 with F1: 0.7 count: 50\n",
      "2022-08-06 03:06:05.452 | INFO     | __main__:<module>:9 - MODEL Thresh 0.0599999999999999 with F1: 0.7 count: 50\n",
      "2022-08-06 03:06:05.455 | INFO     | __main__:<module>:9 - MODEL Thresh 0.0699999999999999 with F1: 0.7 count: 50\n",
      "2022-08-06 03:06:05.460 | INFO     | __main__:<module>:9 - MODEL Thresh 0.0799999999999999 with F1: 0.7 count: 50\n",
      "2022-08-06 03:06:05.462 | INFO     | __main__:<module>:9 - MODEL Thresh 0.0899999999999998 with F1: 0.7 count: 50\n",
      "2022-08-06 03:06:05.471 | INFO     | __main__:<module>:9 - MODEL Thresh 0.0999999999999999 with F1: 0.7 count: 50\n",
      "2022-08-06 03:06:05.473 | INFO     | __main__:<module>:9 - MODEL Thresh 0.1099999999999999 with F1: 0.79 count: 50\n",
      "2022-08-06 03:06:05.476 | INFO     | __main__:<module>:9 - MODEL Thresh 0.1199999999999998 with F1: 0.79 count: 50\n",
      "2022-08-06 03:06:05.478 | INFO     | __main__:<module>:9 - MODEL Thresh 0.1299999999999998 with F1: 0.79 count: 50\n",
      "2022-08-06 03:06:05.495 | INFO     | __main__:<module>:9 - MODEL Thresh 0.1399999999999998 with F1: 0.79 count: 50\n",
      "2022-08-06 03:06:05.498 | INFO     | __main__:<module>:9 - MODEL Thresh 0.1499999999999998 with F1: 0.79 count: 50\n",
      "2022-08-06 03:06:05.505 | INFO     | __main__:<module>:9 - MODEL Thresh 0.1599999999999999 with F1: 0.79 count: 50\n",
      "2022-08-06 03:06:05.508 | INFO     | __main__:<module>:9 - MODEL Thresh 0.1699999999999998 with F1: 0.79 count: 50\n",
      "2022-08-06 03:06:05.511 | INFO     | __main__:<module>:9 - MODEL Thresh 0.1799999999999998 with F1: 0.79 count: 50\n",
      "2022-08-06 03:06:05.516 | INFO     | __main__:<module>:9 - MODEL Thresh 0.1899999999999998 with F1: 0.79 count: 50\n",
      "2022-08-06 03:06:05.518 | INFO     | __main__:<module>:9 - MODEL Thresh 0.1999999999999998 with F1: 0.79 count: 50\n",
      "2022-08-06 03:06:05.521 | INFO     | __main__:<module>:9 - MODEL Thresh 0.2099999999999998 with F1: 0.79 count: 50\n",
      "2022-08-06 03:06:05.525 | INFO     | __main__:<module>:9 - MODEL Thresh 0.2199999999999998 with F1: 0.79 count: 50\n",
      "2022-08-06 03:06:05.527 | INFO     | __main__:<module>:9 - MODEL Thresh 0.2299999999999998 with F1: 0.79 count: 50\n",
      "2022-08-06 03:06:05.529 | INFO     | __main__:<module>:9 - MODEL Thresh 0.2399999999999998 with F1: 0.79 count: 50\n",
      "2022-08-06 03:06:05.533 | INFO     | __main__:<module>:9 - MODEL Thresh 0.2499999999999998 with F1: 0.79 count: 50\n",
      "2022-08-06 03:06:05.535 | INFO     | __main__:<module>:9 - MODEL Thresh 0.2599999999999998 with F1: 0.79 count: 50\n",
      "2022-08-06 03:06:05.538 | INFO     | __main__:<module>:9 - MODEL Thresh 0.2699999999999998 with F1: 0.79 count: 50\n",
      "2022-08-06 03:06:05.541 | INFO     | __main__:<module>:9 - MODEL Thresh 0.2799999999999998 with F1: 0.63 count: 50\n",
      "2022-08-06 03:06:05.546 | INFO     | __main__:<module>:9 - MODEL Thresh 0.2899999999999998 with F1: 0.63 count: 50\n",
      "2022-08-06 03:06:05.551 | INFO     | __main__:<module>:9 - MODEL Thresh 0.2999999999999998 with F1: 0.64 count: 50\n",
      "2022-08-06 03:06:05.555 | INFO     | __main__:<module>:9 - MODEL Thresh 0.3099999999999998 with F1: 0.64 count: 50\n",
      "2022-08-06 03:06:05.560 | INFO     | __main__:<module>:9 - MODEL Thresh 0.3199999999999998 with F1: 0.64 count: 50\n",
      "2022-08-06 03:06:05.562 | INFO     | __main__:<module>:9 - MODEL Thresh 0.3299999999999997 with F1: 0.64 count: 50\n",
      "2022-08-06 03:06:05.564 | INFO     | __main__:<module>:9 - MODEL Thresh 0.3399999999999997 with F1: 0.64 count: 50\n",
      "2022-08-06 03:06:05.569 | INFO     | __main__:<module>:9 - MODEL Thresh 0.3499999999999997 with F1: 0.64 count: 50\n",
      "2022-08-06 03:06:05.571 | INFO     | __main__:<module>:9 - MODEL Thresh 0.3599999999999997 with F1: 0.64 count: 50\n",
      "2022-08-06 03:06:05.576 | INFO     | __main__:<module>:9 - MODEL Thresh 0.3699999999999998 with F1: 0.64 count: 50\n",
      "2022-08-06 03:06:05.579 | INFO     | __main__:<module>:9 - MODEL Thresh 0.3799999999999998 with F1: 0.48 count: 50\n",
      "2022-08-06 03:06:05.582 | INFO     | __main__:<module>:9 - MODEL Thresh 0.3899999999999998 with F1: 0.48 count: 50\n",
      "2022-08-06 03:06:05.585 | INFO     | __main__:<module>:9 - MODEL Thresh 0.3999999999999998 with F1: 0.48 count: 50\n",
      "2022-08-06 03:06:05.588 | INFO     | __main__:<module>:9 - MODEL Thresh 0.4099999999999998 with F1: 0.48 count: 50\n",
      "2022-08-06 03:06:05.592 | INFO     | __main__:<module>:9 - MODEL Thresh 0.4199999999999998 with F1: 0.48 count: 50\n",
      "2022-08-06 03:06:05.594 | INFO     | __main__:<module>:9 - MODEL Thresh 0.4299999999999997 with F1: 0.48 count: 50\n",
      "2022-08-06 03:06:05.603 | INFO     | __main__:<module>:9 - MODEL Thresh 0.4399999999999997 with F1: 0.48 count: 50\n",
      "2022-08-06 03:06:05.606 | INFO     | __main__:<module>:9 - MODEL Thresh 0.4499999999999997 with F1: 0.48 count: 50\n",
      "2022-08-06 03:06:05.612 | INFO     | __main__:<module>:9 - MODEL Thresh 0.4599999999999997 with F1: 0.48 count: 50\n",
      "2022-08-06 03:06:05.624 | INFO     | __main__:<module>:9 - MODEL Thresh 0.4699999999999997 with F1: 0.48 count: 50\n",
      "2022-08-06 03:06:05.627 | INFO     | __main__:<module>:9 - MODEL Thresh 0.4799999999999997 with F1: 0.48 count: 50\n",
      "2022-08-06 03:06:05.630 | INFO     | __main__:<module>:9 - MODEL Thresh 0.4899999999999997 with F1: 0.48 count: 50\n",
      "2022-08-06 03:06:05.634 | INFO     | __main__:<module>:9 - MODEL Thresh 0.4999999999999996 with F1: 0.48 count: 50\n",
      "2022-08-06 03:06:05.637 | INFO     | __main__:<module>:9 - MODEL Thresh 0.5099999999999997 with F1: 0.48 count: 50\n",
      "2022-08-06 03:06:05.640 | INFO     | __main__:<module>:9 - MODEL Thresh 0.5199999999999997 with F1: 0.48 count: 50\n",
      "2022-08-06 03:06:05.643 | INFO     | __main__:<module>:9 - MODEL Thresh 0.5299999999999997 with F1: 0.48 count: 50\n",
      "2022-08-06 03:06:05.651 | INFO     | __main__:<module>:9 - MODEL Thresh 0.5399999999999997 with F1: 0.48 count: 50\n",
      "2022-08-06 03:06:05.656 | INFO     | __main__:<module>:9 - MODEL Thresh 0.5499999999999997 with F1: 0.48 count: 50\n",
      "2022-08-06 03:06:05.660 | INFO     | __main__:<module>:9 - MODEL Thresh 0.5599999999999997 with F1: 0.48 count: 50\n",
      "2022-08-06 03:06:05.662 | INFO     | __main__:<module>:9 - MODEL Thresh 0.5699999999999997 with F1: 0.33 count: 50\n",
      "2022-08-06 03:06:05.665 | INFO     | __main__:<module>:9 - MODEL Thresh 0.5799999999999997 with F1: 0.33 count: 50\n",
      "2022-08-06 03:06:05.667 | INFO     | __main__:<module>:9 - MODEL Thresh 0.5899999999999996 with F1: 0.33 count: 50\n",
      "2022-08-06 03:06:05.670 | INFO     | __main__:<module>:9 - MODEL Thresh 0.5999999999999996 with F1: 0.33 count: 50\n",
      "2022-08-06 03:06:05.675 | INFO     | __main__:<module>:9 - MODEL Thresh 0.6099999999999997 with F1: 0.33 count: 50\n",
      "2022-08-06 03:06:05.677 | INFO     | __main__:<module>:9 - MODEL Thresh 0.6199999999999997 with F1: 0.33 count: 50\n",
      "2022-08-06 03:06:05.680 | INFO     | __main__:<module>:9 - MODEL Thresh 0.6299999999999997 with F1: 0.33 count: 50\n",
      "2022-08-06 03:06:05.684 | INFO     | __main__:<module>:9 - MODEL Thresh 0.6399999999999997 with F1: 0.33 count: 50\n",
      "2022-08-06 03:06:05.687 | INFO     | __main__:<module>:9 - MODEL Thresh 0.6499999999999997 with F1: 0.33 count: 50\n",
      "2022-08-06 03:06:05.690 | INFO     | __main__:<module>:9 - MODEL Thresh 0.6599999999999996 with F1: 0.33 count: 50\n",
      "2022-08-06 03:06:05.693 | INFO     | __main__:<module>:9 - MODEL Thresh 0.6699999999999996 with F1: 0.33 count: 50\n",
      "2022-08-06 03:06:05.696 | INFO     | __main__:<module>:9 - MODEL Thresh 0.6799999999999996 with F1: 0.33 count: 50\n",
      "2022-08-06 03:06:05.700 | INFO     | __main__:<module>:9 - MODEL Thresh 0.6899999999999996 with F1: 0.33 count: 50\n",
      "2022-08-06 03:06:05.704 | INFO     | __main__:<module>:9 - MODEL Thresh 0.6999999999999996 with F1: 0.33 count: 50\n"
     ]
    }
   ],
   "source": [
    "dataframe = pd.read_csv('B_type_I_PE_vs_Type_II_v4_0.2.csv')\n",
    "dataframe_filter = dataframe['THRE'].unique()\n",
    "#print(dataframe['THRE'].value_counts())\n",
    "\n",
    "\n",
    "for thresh in dataframe_filter:\n",
    "    df_model = dataframe[dataframe['THRE'] == thresh]\n",
    "    mean_f1 = float(f'{np.mean(df_model[\"F1\"]):.2f}')\n",
    "    log.info(f'MODEL Thresh {thresh} with F1: {mean_f1} count: {df_model.shape[0]}')\n"
   ]
  },
  {
   "cell_type": "code",
   "execution_count": null,
   "metadata": {},
   "outputs": [],
   "source": []
  }
 ],
 "metadata": {
  "kernelspec": {
   "display_name": "Python 3.9.7 64-bit",
   "language": "python",
   "name": "python3"
  },
  "language_info": {
   "codemirror_mode": {
    "name": "ipython",
    "version": 3
   },
   "file_extension": ".py",
   "mimetype": "text/x-python",
   "name": "python",
   "nbconvert_exporter": "python",
   "pygments_lexer": "ipython3",
   "version": "3.9.7"
  },
  "orig_nbformat": 4,
  "vscode": {
   "interpreter": {
    "hash": "36cf16204b8548560b1c020c4e8fb5b57f0e4c58016f52f2d4be01e192833930"
   }
  }
 },
 "nbformat": 4,
 "nbformat_minor": 2
}
