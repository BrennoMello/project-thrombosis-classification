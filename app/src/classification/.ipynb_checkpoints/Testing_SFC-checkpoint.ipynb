{
 "cells": [
  {
   "cell_type": "code",
   "execution_count": null,
   "metadata": {},
   "outputs": [],
   "source": [
    "import pandas as pd\n",
    "import numpy as np\n",
    "from scipy.stats import wilcoxon\n",
    "\n",
    "from sfc import *"
   ]
  },
  {
   "cell_type": "code",
   "execution_count": 23,
   "metadata": {},
   "outputs": [
    {
     "data": {
      "text/html": [
       "<div>\n",
       "<style scoped>\n",
       "    .dataframe tbody tr th:only-of-type {\n",
       "        vertical-align: middle;\n",
       "    }\n",
       "\n",
       "    .dataframe tbody tr th {\n",
       "        vertical-align: top;\n",
       "    }\n",
       "\n",
       "    .dataframe thead th {\n",
       "        text-align: right;\n",
       "    }\n",
       "</style>\n",
       "<table border=\"1\" class=\"dataframe\">\n",
       "  <thead>\n",
       "    <tr style=\"text-align: right;\">\n",
       "      <th></th>\n",
       "      <th>areaSAS</th>\n",
       "      <th>relSESA</th>\n",
       "      <th>areaSES</th>\n",
       "      <th>kdHydrophobicity</th>\n",
       "      <th>Consurf_Score</th>\n",
       "      <th>dg</th>\n",
       "      <th>bt</th>\n",
       "      <th>cl</th>\n",
       "      <th>burts</th>\n",
       "      <th>pr</th>\n",
       "      <th>auth</th>\n",
       "      <th>kcore</th>\n",
       "      <th>provean</th>\n",
       "      <th>sift</th>\n",
       "      <th>pph2_prob</th>\n",
       "      <th>dScore</th>\n",
       "      <th>Score1</th>\n",
       "      <th>Score2</th>\n",
       "      <th>inhibit</th>\n",
       "    </tr>\n",
       "  </thead>\n",
       "  <tbody>\n",
       "    <tr>\n",
       "      <th>0</th>\n",
       "      <td>0.308333</td>\n",
       "      <td>0.433187</td>\n",
       "      <td>0.526357</td>\n",
       "      <td>0.000000</td>\n",
       "      <td>0.066791</td>\n",
       "      <td>0.571429</td>\n",
       "      <td>0.023952</td>\n",
       "      <td>0.592203</td>\n",
       "      <td>0.598934</td>\n",
       "      <td>0.541783</td>\n",
       "      <td>0.099647</td>\n",
       "      <td>1.0</td>\n",
       "      <td>0.567031</td>\n",
       "      <td>0.000</td>\n",
       "      <td>1.000</td>\n",
       "      <td>0.504618</td>\n",
       "      <td>0.791584</td>\n",
       "      <td>0.576328</td>\n",
       "      <td>No</td>\n",
       "    </tr>\n",
       "    <tr>\n",
       "      <th>1</th>\n",
       "      <td>0.546171</td>\n",
       "      <td>0.713501</td>\n",
       "      <td>0.866961</td>\n",
       "      <td>0.000000</td>\n",
       "      <td>0.175260</td>\n",
       "      <td>0.142857</td>\n",
       "      <td>0.001096</td>\n",
       "      <td>0.536303</td>\n",
       "      <td>0.191780</td>\n",
       "      <td>0.049713</td>\n",
       "      <td>0.031383</td>\n",
       "      <td>0.5</td>\n",
       "      <td>0.616963</td>\n",
       "      <td>0.014</td>\n",
       "      <td>0.994</td>\n",
       "      <td>0.453706</td>\n",
       "      <td>0.655446</td>\n",
       "      <td>0.562553</td>\n",
       "      <td>No</td>\n",
       "    </tr>\n",
       "    <tr>\n",
       "      <th>2</th>\n",
       "      <td>0.128332</td>\n",
       "      <td>0.322050</td>\n",
       "      <td>0.369548</td>\n",
       "      <td>0.355556</td>\n",
       "      <td>0.040075</td>\n",
       "      <td>0.571429</td>\n",
       "      <td>0.041467</td>\n",
       "      <td>0.611705</td>\n",
       "      <td>0.619353</td>\n",
       "      <td>0.552246</td>\n",
       "      <td>0.104868</td>\n",
       "      <td>1.0</td>\n",
       "      <td>0.460328</td>\n",
       "      <td>0.001</td>\n",
       "      <td>1.000</td>\n",
       "      <td>0.650822</td>\n",
       "      <td>0.835149</td>\n",
       "      <td>0.418611</td>\n",
       "      <td>No</td>\n",
       "    </tr>\n",
       "    <tr>\n",
       "      <th>3</th>\n",
       "      <td>0.260631</td>\n",
       "      <td>0.458280</td>\n",
       "      <td>0.525870</td>\n",
       "      <td>0.355556</td>\n",
       "      <td>0.118889</td>\n",
       "      <td>0.500000</td>\n",
       "      <td>0.035310</td>\n",
       "      <td>0.519546</td>\n",
       "      <td>0.495884</td>\n",
       "      <td>0.530899</td>\n",
       "      <td>0.058901</td>\n",
       "      <td>1.0</td>\n",
       "      <td>0.452120</td>\n",
       "      <td>0.000</td>\n",
       "      <td>1.000</td>\n",
       "      <td>0.863257</td>\n",
       "      <td>0.835149</td>\n",
       "      <td>0.153500</td>\n",
       "      <td>No</td>\n",
       "    </tr>\n",
       "    <tr>\n",
       "      <th>4</th>\n",
       "      <td>0.000000</td>\n",
       "      <td>0.000000</td>\n",
       "      <td>0.000000</td>\n",
       "      <td>0.922222</td>\n",
       "      <td>0.034999</td>\n",
       "      <td>0.642857</td>\n",
       "      <td>0.133032</td>\n",
       "      <td>0.627427</td>\n",
       "      <td>0.792328</td>\n",
       "      <td>0.641999</td>\n",
       "      <td>0.112506</td>\n",
       "      <td>1.0</td>\n",
       "      <td>0.607387</td>\n",
       "      <td>0.000</td>\n",
       "      <td>1.000</td>\n",
       "      <td>0.641811</td>\n",
       "      <td>0.767822</td>\n",
       "      <td>0.391622</td>\n",
       "      <td>No</td>\n",
       "    </tr>\n",
       "    <tr>\n",
       "      <th>...</th>\n",
       "      <td>...</td>\n",
       "      <td>...</td>\n",
       "      <td>...</td>\n",
       "      <td>...</td>\n",
       "      <td>...</td>\n",
       "      <td>...</td>\n",
       "      <td>...</td>\n",
       "      <td>...</td>\n",
       "      <td>...</td>\n",
       "      <td>...</td>\n",
       "      <td>...</td>\n",
       "      <td>...</td>\n",
       "      <td>...</td>\n",
       "      <td>...</td>\n",
       "      <td>...</td>\n",
       "      <td>...</td>\n",
       "      <td>...</td>\n",
       "      <td>...</td>\n",
       "      <td>...</td>\n",
       "    </tr>\n",
       "    <tr>\n",
       "      <th>519</th>\n",
       "      <td>0.048762</td>\n",
       "      <td>0.154175</td>\n",
       "      <td>0.187335</td>\n",
       "      <td>0.000000</td>\n",
       "      <td>0.068662</td>\n",
       "      <td>0.785714</td>\n",
       "      <td>0.144296</td>\n",
       "      <td>0.278772</td>\n",
       "      <td>0.782695</td>\n",
       "      <td>0.761016</td>\n",
       "      <td>0.304942</td>\n",
       "      <td>1.0</td>\n",
       "      <td>0.407661</td>\n",
       "      <td>0.000</td>\n",
       "      <td>1.000</td>\n",
       "      <td>0.974544</td>\n",
       "      <td>0.832673</td>\n",
       "      <td>0.013213</td>\n",
       "      <td>No</td>\n",
       "    </tr>\n",
       "    <tr>\n",
       "      <th>520</th>\n",
       "      <td>0.020306</td>\n",
       "      <td>0.158941</td>\n",
       "      <td>0.142927</td>\n",
       "      <td>0.111111</td>\n",
       "      <td>0.071867</td>\n",
       "      <td>0.571429</td>\n",
       "      <td>0.079881</td>\n",
       "      <td>0.370630</td>\n",
       "      <td>0.603288</td>\n",
       "      <td>0.516927</td>\n",
       "      <td>0.225216</td>\n",
       "      <td>1.0</td>\n",
       "      <td>0.646375</td>\n",
       "      <td>0.000</td>\n",
       "      <td>1.000</td>\n",
       "      <td>0.474656</td>\n",
       "      <td>0.880198</td>\n",
       "      <td>0.664043</td>\n",
       "      <td>No</td>\n",
       "    </tr>\n",
       "    <tr>\n",
       "      <th>521</th>\n",
       "      <td>0.147763</td>\n",
       "      <td>0.331843</td>\n",
       "      <td>0.307927</td>\n",
       "      <td>0.922222</td>\n",
       "      <td>0.253807</td>\n",
       "      <td>0.428571</td>\n",
       "      <td>0.115953</td>\n",
       "      <td>0.473882</td>\n",
       "      <td>0.455913</td>\n",
       "      <td>0.382468</td>\n",
       "      <td>0.087980</td>\n",
       "      <td>1.0</td>\n",
       "      <td>0.524624</td>\n",
       "      <td>0.000</td>\n",
       "      <td>1.000</td>\n",
       "      <td>0.717954</td>\n",
       "      <td>0.827723</td>\n",
       "      <td>0.330616</td>\n",
       "      <td>No</td>\n",
       "    </tr>\n",
       "    <tr>\n",
       "      <th>522</th>\n",
       "      <td>0.015241</td>\n",
       "      <td>0.168964</td>\n",
       "      <td>0.069852</td>\n",
       "      <td>0.455556</td>\n",
       "      <td>0.109538</td>\n",
       "      <td>0.428571</td>\n",
       "      <td>0.094371</td>\n",
       "      <td>0.546662</td>\n",
       "      <td>0.485669</td>\n",
       "      <td>0.388414</td>\n",
       "      <td>0.067084</td>\n",
       "      <td>1.0</td>\n",
       "      <td>0.407661</td>\n",
       "      <td>0.000</td>\n",
       "      <td>1.000</td>\n",
       "      <td>0.737779</td>\n",
       "      <td>1.000000</td>\n",
       "      <td>0.403711</td>\n",
       "      <td>No</td>\n",
       "    </tr>\n",
       "    <tr>\n",
       "      <th>523</th>\n",
       "      <td>0.118648</td>\n",
       "      <td>0.304548</td>\n",
       "      <td>0.209917</td>\n",
       "      <td>0.777778</td>\n",
       "      <td>0.042479</td>\n",
       "      <td>0.357143</td>\n",
       "      <td>0.132101</td>\n",
       "      <td>0.564384</td>\n",
       "      <td>0.388439</td>\n",
       "      <td>0.312561</td>\n",
       "      <td>0.049021</td>\n",
       "      <td>1.0</td>\n",
       "      <td>0.173051</td>\n",
       "      <td>0.000</td>\n",
       "      <td>1.000</td>\n",
       "      <td>0.710070</td>\n",
       "      <td>0.827723</td>\n",
       "      <td>0.340455</td>\n",
       "      <td>No</td>\n",
       "    </tr>\n",
       "  </tbody>\n",
       "</table>\n",
       "<p>524 rows × 19 columns</p>\n",
       "</div>"
      ],
      "text/plain": [
       "      areaSAS   relSESA   areaSES  kdHydrophobicity  Consurf_Score        dg  \\\n",
       "0    0.308333  0.433187  0.526357          0.000000       0.066791  0.571429   \n",
       "1    0.546171  0.713501  0.866961          0.000000       0.175260  0.142857   \n",
       "2    0.128332  0.322050  0.369548          0.355556       0.040075  0.571429   \n",
       "3    0.260631  0.458280  0.525870          0.355556       0.118889  0.500000   \n",
       "4    0.000000  0.000000  0.000000          0.922222       0.034999  0.642857   \n",
       "..        ...       ...       ...               ...            ...       ...   \n",
       "519  0.048762  0.154175  0.187335          0.000000       0.068662  0.785714   \n",
       "520  0.020306  0.158941  0.142927          0.111111       0.071867  0.571429   \n",
       "521  0.147763  0.331843  0.307927          0.922222       0.253807  0.428571   \n",
       "522  0.015241  0.168964  0.069852          0.455556       0.109538  0.428571   \n",
       "523  0.118648  0.304548  0.209917          0.777778       0.042479  0.357143   \n",
       "\n",
       "           bt        cl     burts        pr      auth  kcore   provean   sift  \\\n",
       "0    0.023952  0.592203  0.598934  0.541783  0.099647    1.0  0.567031  0.000   \n",
       "1    0.001096  0.536303  0.191780  0.049713  0.031383    0.5  0.616963  0.014   \n",
       "2    0.041467  0.611705  0.619353  0.552246  0.104868    1.0  0.460328  0.001   \n",
       "3    0.035310  0.519546  0.495884  0.530899  0.058901    1.0  0.452120  0.000   \n",
       "4    0.133032  0.627427  0.792328  0.641999  0.112506    1.0  0.607387  0.000   \n",
       "..        ...       ...       ...       ...       ...    ...       ...    ...   \n",
       "519  0.144296  0.278772  0.782695  0.761016  0.304942    1.0  0.407661  0.000   \n",
       "520  0.079881  0.370630  0.603288  0.516927  0.225216    1.0  0.646375  0.000   \n",
       "521  0.115953  0.473882  0.455913  0.382468  0.087980    1.0  0.524624  0.000   \n",
       "522  0.094371  0.546662  0.485669  0.388414  0.067084    1.0  0.407661  0.000   \n",
       "523  0.132101  0.564384  0.388439  0.312561  0.049021    1.0  0.173051  0.000   \n",
       "\n",
       "     pph2_prob    dScore    Score1    Score2 inhibit  \n",
       "0        1.000  0.504618  0.791584  0.576328      No  \n",
       "1        0.994  0.453706  0.655446  0.562553      No  \n",
       "2        1.000  0.650822  0.835149  0.418611      No  \n",
       "3        1.000  0.863257  0.835149  0.153500      No  \n",
       "4        1.000  0.641811  0.767822  0.391622      No  \n",
       "..         ...       ...       ...       ...     ...  \n",
       "519      1.000  0.974544  0.832673  0.013213      No  \n",
       "520      1.000  0.474656  0.880198  0.664043      No  \n",
       "521      1.000  0.717954  0.827723  0.330616      No  \n",
       "522      1.000  0.737779  1.000000  0.403711      No  \n",
       "523      1.000  0.710070  0.827723  0.340455      No  \n",
       "\n",
       "[524 rows x 19 columns]"
      ]
     },
     "execution_count": 23,
     "metadata": {},
     "output_type": "execute_result"
    }
   ],
   "source": [
    "datasets = ['../../data/thrombosis_non_thrombosis_v3.csv',\n",
    "           '../../data/type_I_vs_type_II_v3.csv',\n",
    "           '../../data/type_I_PE_vs_Type_II_v3.csv',\n",
    "           '../../data/type_I_vs_Type_II_no_PE_v3.csv']\n",
    "\n",
    "#biodata = pd.read_csv('../../data/thrombosis_non_thrombosis_v3.csv', sep=\"\\t\")\n",
    "#biodata.drop(['node'], axis='columns', inplace=True)\n",
    "#biodata = pd.read_csv('/tmp/FVIII_inhibit_dataset_v2.csv', sep=\"\\t\")\n",
    "#biodata.drop(['leg_pos', 'Residue', 'Domain'], axis='columns', inplace=True)\n",
    "#biodata = pd.read_csv('../../data/type_I_vs_type_II_v2.csv', sep=\"\\t\")\n",
    "#biodata = pd.read_csv('../../data/type_I_PE_vs_Type_II_v2.csv', sep=\"\\t\")\n",
    "#biodata = pd.read_csv('../../data/type_I_vs_Type_II_no_PE_v2.csv', sep=\"\\t\")\n",
    "biodata = pd.read_csv('/tmp/he', sep=\"\\t\")\n",
    "biodata.drop(['leg_pos', 'Residue', 'Domain'], axis='columns', inplace=True)\n",
    "\n",
    "\n",
    "for i in np.arange(biodata.shape[1]-1):\n",
    "    biodata.iloc[:, i] = (biodata.iloc[:, i] - min(biodata.iloc[:, i]))/(max(biodata.iloc[:, i]) - min(biodata.iloc[:, i]))\n",
    "\n",
    "biodata"
   ]
  },
  {
   "cell_type": "code",
   "execution_count": 24,
   "metadata": {},
   "outputs": [
    {
     "name": "stdout",
     "output_type": "stream",
     "text": [
      "Running SFC on label index = 18\n",
      "\n",
      "Class: No -- Size: 509\n",
      "\n",
      "Class: Yes -- Size: 15\n",
      "\n",
      "Positive class: Yes | Negative Class:No\n",
      "Analyzing iteration 0\n",
      "\tTrue: Counter({0: 10, 1: 10})\n",
      "\tPred: Counter({1: 13, 0: 7})\n",
      "Analyzing iteration 1\n",
      "\tTrue: Counter({0: 10, 1: 10})\n",
      "\tPred: Counter({1: 12, 0: 8})\n",
      "Analyzing iteration 2\n",
      "\tTrue: Counter({0: 10, 1: 10})\n",
      "\tPred: Counter({1: 13, 0: 7})\n",
      "Analyzing iteration 3\n",
      "\tTrue: Counter({0: 10, 1: 10})\n",
      "\tPred: Counter({1: 13, 0: 7})\n",
      "Analyzing iteration 4\n",
      "\tTrue: Counter({0: 10, 1: 10})\n",
      "\tPred: Counter({1: 15, 0: 5})\n",
      "Analyzing iteration 5\n",
      "\tTrue: Counter({0: 10, 1: 10})\n",
      "\tPred: Counter({1: 14, 0: 6})\n",
      "Analyzing iteration 6\n",
      "\tTrue: Counter({0: 10, 1: 10})\n",
      "\tPred: Counter({1: 14, 0: 6})\n",
      "Analyzing iteration 7\n",
      "\tTrue: Counter({0: 10, 1: 10})\n",
      "\tPred: Counter({1: 14, 0: 6})\n",
      "Analyzing iteration 8\n",
      "\tTrue: Counter({0: 10, 1: 10})\n",
      "\tPred: Counter({1: 13, 0: 7})\n",
      "Analyzing iteration 9\n",
      "\tTrue: Counter({0: 10, 1: 10})\n",
      "\tPred: Counter({1: 15, 0: 5})\n",
      "Analyzing iteration 10\n",
      "\tTrue: Counter({0: 10, 1: 10})\n",
      "\tPred: Counter({1: 15, 0: 5})\n",
      "Analyzing iteration 11\n",
      "\tTrue: Counter({0: 10, 1: 10})\n",
      "\tPred: Counter({1: 12, 0: 8})\n",
      "Analyzing iteration 12\n",
      "\tTrue: Counter({0: 10, 1: 10})\n",
      "\tPred: Counter({1: 15, 0: 5})\n",
      "Analyzing iteration 13\n",
      "\tTrue: Counter({0: 10, 1: 10})\n",
      "\tPred: Counter({1: 12, 0: 8})\n",
      "Analyzing iteration 14\n",
      "\tTrue: Counter({0: 10, 1: 10})\n",
      "\tPred: Counter({1: 12, 0: 8})\n",
      "Analyzing iteration 15\n",
      "\tTrue: Counter({0: 10, 1: 10})\n",
      "\tPred: Counter({1: 15, 0: 5})\n",
      "Analyzing iteration 16\n",
      "\tTrue: Counter({0: 10, 1: 10})\n",
      "\tPred: Counter({1: 11, 0: 9})\n",
      "Analyzing iteration 17\n",
      "\tTrue: Counter({0: 10, 1: 10})\n",
      "\tPred: Counter({1: 15, 0: 5})\n",
      "Analyzing iteration 18\n",
      "\tTrue: Counter({0: 10, 1: 10})\n",
      "\tPred: Counter({1: 13, 0: 7})\n",
      "Analyzing iteration 19\n",
      "\tTrue: Counter({0: 10, 1: 10})\n",
      "\tPred: Counter({1: 14, 0: 6})\n",
      "Analyzing iteration 20\n",
      "\tTrue: Counter({0: 10, 1: 10})\n",
      "\tPred: Counter({1: 13, 0: 7})\n",
      "Analyzing iteration 21\n",
      "\tTrue: Counter({0: 10, 1: 10})\n",
      "\tPred: Counter({1: 11, 0: 9})\n",
      "Analyzing iteration 22\n",
      "\tTrue: Counter({0: 10, 1: 10})\n",
      "\tPred: Counter({1: 13, 0: 7})\n",
      "Analyzing iteration 23\n",
      "\tTrue: Counter({0: 10, 1: 10})\n",
      "\tPred: Counter({1: 12, 0: 8})\n",
      "Analyzing iteration 24\n",
      "\tTrue: Counter({0: 10, 1: 10})\n",
      "\tPred: Counter({1: 15, 0: 5})\n",
      "Analyzing iteration 25\n",
      "\tTrue: Counter({0: 10, 1: 10})\n",
      "\tPred: Counter({1: 11, 0: 9})\n",
      "Analyzing iteration 26\n",
      "\tTrue: Counter({0: 10, 1: 10})\n",
      "\tPred: Counter({1: 14, 0: 6})\n",
      "Analyzing iteration 27\n",
      "\tTrue: Counter({0: 10, 1: 10})\n",
      "\tPred: Counter({1: 13, 0: 7})\n",
      "Analyzing iteration 28\n",
      "\tTrue: Counter({0: 10, 1: 10})\n",
      "\tPred: Counter({1: 14, 0: 6})\n",
      "Analyzing iteration 29\n",
      "\tTrue: Counter({0: 10, 1: 10})\n",
      "\tPred: Counter({1: 11, 0: 9})\n",
      "Analyzing iteration 30\n",
      "\tTrue: Counter({0: 10, 1: 10})\n",
      "\tPred: Counter({1: 14, 0: 6})\n",
      "Analyzing iteration 31\n",
      "\tTrue: Counter({0: 10, 1: 10})\n",
      "\tPred: Counter({1: 16, 0: 4})\n",
      "Analyzing iteration 32\n",
      "\tTrue: Counter({0: 10, 1: 10})\n",
      "\tPred: Counter({1: 11, 0: 9})\n",
      "Analyzing iteration 33\n",
      "\tTrue: Counter({0: 10, 1: 10})\n",
      "\tPred: Counter({1: 14, 0: 6})\n",
      "Analyzing iteration 34\n",
      "\tTrue: Counter({0: 10, 1: 10})\n",
      "\tPred: Counter({1: 15, 0: 5})\n",
      "Analyzing iteration 35\n",
      "\tTrue: Counter({0: 10, 1: 10})\n",
      "\tPred: Counter({1: 16, 0: 4})\n",
      "Analyzing iteration 36\n",
      "\tTrue: Counter({0: 10, 1: 10})\n",
      "\tPred: Counter({1: 12, 0: 8})\n",
      "Analyzing iteration 37\n",
      "\tTrue: Counter({0: 10, 1: 10})\n",
      "\tPred: Counter({1: 16, 0: 4})\n",
      "Analyzing iteration 38\n",
      "\tTrue: Counter({0: 10, 1: 10})\n",
      "\tPred: Counter({1: 13, 0: 7})\n",
      "Analyzing iteration 39\n",
      "\tTrue: Counter({0: 10, 1: 10})\n",
      "\tPred: Counter({1: 11, 0: 9})\n",
      "Analyzing iteration 40\n",
      "\tTrue: Counter({0: 10, 1: 10})\n",
      "\tPred: Counter({1: 16, 0: 4})\n",
      "Analyzing iteration 41\n",
      "\tTrue: Counter({0: 10, 1: 10})\n",
      "\tPred: Counter({1: 14, 0: 6})\n",
      "Analyzing iteration 42\n",
      "\tTrue: Counter({0: 10, 1: 10})\n",
      "\tPred: Counter({1: 14, 0: 6})\n",
      "Analyzing iteration 43\n",
      "\tTrue: Counter({0: 10, 1: 10})\n",
      "\tPred: Counter({1: 11, 0: 9})\n",
      "Analyzing iteration 44\n",
      "\tTrue: Counter({0: 10, 1: 10})\n",
      "\tPred: Counter({1: 12, 0: 8})\n",
      "Analyzing iteration 45\n",
      "\tTrue: Counter({0: 10, 1: 10})\n",
      "\tPred: Counter({1: 12, 0: 8})\n",
      "Analyzing iteration 46\n",
      "\tTrue: Counter({0: 10, 1: 10})\n",
      "\tPred: Counter({1: 14, 0: 6})\n",
      "Analyzing iteration 47\n",
      "\tTrue: Counter({0: 10, 1: 10})\n",
      "\tPred: Counter({1: 15, 0: 5})\n",
      "Analyzing iteration 48\n",
      "\tTrue: Counter({0: 10, 1: 10})\n",
      "\tPred: Counter({1: 15, 0: 5})\n",
      "Analyzing iteration 49\n",
      "\tTrue: Counter({0: 10, 1: 10})\n",
      "\tPred: Counter({1: 15, 0: 5})\n"
     ]
    }
   ],
   "source": [
    "# dataset 01\n",
    "acc, f1, nn, auc = runSFC(biodata, nrepetitions = 50, positive='Yes', classThreshold = 0.5)\n",
    "# dataset 02\n",
    "#acc, f1 = runSFC(biodata, nrepetitions = 50, positive='Type_II', classThreshold = 0.8)"
   ]
  },
  {
   "cell_type": "code",
   "execution_count": 8,
   "metadata": {},
   "outputs": [
    {
     "data": {
      "text/plain": [
       "5.0"
      ]
     },
     "execution_count": 8,
     "metadata": {},
     "output_type": "execute_result"
    }
   ],
   "source": [
    "np.round(np.mean(nn[:,0]),2)"
   ]
  },
  {
   "cell_type": "code",
   "execution_count": 33,
   "metadata": {},
   "outputs": [
    {
     "data": {
      "text/plain": [
       "array([1, 2, 3, 4])"
      ]
     },
     "execution_count": 33,
     "metadata": {},
     "output_type": "execute_result"
    }
   ],
   "source": [
    "train_idx = np.arange(1,5)\n",
    "train_idx"
   ]
  },
  {
   "cell_type": "code",
   "execution_count": 34,
   "metadata": {},
   "outputs": [
    {
     "data": {
      "text/plain": [
       "array([4, 5, 6, 7, 8, 9])"
      ]
     },
     "execution_count": 34,
     "metadata": {},
     "output_type": "execute_result"
    }
   ],
   "source": [
    "test_idx = np.arange(4,10)\n",
    "test_idx"
   ]
  },
  {
   "cell_type": "code",
   "execution_count": 35,
   "metadata": {},
   "outputs": [
    {
     "data": {
      "text/plain": [
       "True"
      ]
     },
     "execution_count": 35,
     "metadata": {},
     "output_type": "execute_result"
    }
   ],
   "source": [
    "not set(train_idx).isdisjoint(set(test_idx))"
   ]
  },
  {
   "cell_type": "code",
   "execution_count": 9,
   "metadata": {},
   "outputs": [
    {
     "data": {
      "text/plain": [
       "array([0.3, 0.3, 0.9, 0.4, 0.7, 0.4, 0.6, 0.3, 0.6, 0.5])"
      ]
     },
     "execution_count": 9,
     "metadata": {},
     "output_type": "execute_result"
    }
   ],
   "source": [
    "nn[:,0]/10"
   ]
  },
  {
   "cell_type": "code",
   "execution_count": 25,
   "metadata": {},
   "outputs": [
    {
     "name": "stdout",
     "output_type": "stream",
     "text": [
      "Accuracies - class 01: 0.75 | class 02: 1.0 | F1: 0.81\n"
     ]
    }
   ],
   "source": [
    "print(f'Accuracies - class 01: {np.round(np.mean(acc[:,0]), 2)} | class 02: {np.round(np.mean(acc[:,1]), 2)} | F1: {np.round(np.mean(f1),2)}')"
   ]
  },
  {
   "cell_type": "code",
   "execution_count": 6,
   "metadata": {},
   "outputs": [
    {
     "data": {
      "application/javascript": [
       "\n",
       "        if (window._pyforest_update_imports_cell) { window._pyforest_update_imports_cell('import numpy as np'); }\n",
       "    "
      ],
      "text/plain": [
       "<IPython.core.display.Javascript object>"
      ]
     },
     "metadata": {},
     "output_type": "display_data"
    },
    {
     "data": {
      "application/javascript": [
       "\n",
       "        if (window._pyforest_update_imports_cell) { window._pyforest_update_imports_cell('import numpy as np'); }\n",
       "    "
      ],
      "text/plain": [
       "<IPython.core.display.Javascript object>"
      ]
     },
     "metadata": {},
     "output_type": "display_data"
    },
    {
     "data": {
      "text/plain": [
       "2"
      ]
     },
     "execution_count": 6,
     "metadata": {},
     "output_type": "execute_result"
    }
   ],
   "source": [
    "len(np.where(np.arange(1,10) > 7)[0])"
   ]
  },
  {
   "cell_type": "code",
   "execution_count": 5,
   "metadata": {},
   "outputs": [],
   "source": [
    "#!/usr/bin/env python\n",
    "# coding: utf-8\n",
    "\n",
    "import pandas as pd\n",
    "import numpy as np\n",
    "from scipy.stats import wilcoxon\n",
    "\n",
    "datasets = ['../../data/thrombosis_non_thrombosis_v3.csv',\n",
    "           '../../data/type_I_vs_type_II_v3.csv',\n",
    "           '../../data/type_I_PE_vs_Type_II_v3.csv',\n",
    "           '../../data/type_I_vs_Type_II_no_PE_v3.csv']\n",
    "\n",
    "acc_01 = []\n",
    "acc_02 = []\n",
    "f1_all = []\n",
    "acc_01_sd = []\n",
    "acc_02_sd = []\n",
    "f1_all_sd = []\n",
    "n_inst_mean = []\n",
    "\n",
    "dataset_names = []\n",
    "threshold_values = []\n",
    "\n",
    "ds = '../../data/thrombosis_non_thrombosis_v3.csv'\n",
    "t = 0.5"
   ]
  },
  {
   "cell_type": "code",
   "execution_count": 6,
   "metadata": {},
   "outputs": [
    {
     "name": "stdout",
     "output_type": "stream",
     "text": [
      "Analyzing the dataset:../../data/thrombosis_non_thrombosis_v3.csv using threshold 0.5\n"
     ]
    }
   ],
   "source": [
    "print(f'Analyzing the dataset:{ds} using threshold {t}')\n",
    "pos_lab = 'Type_II'\n",
    "\n",
    "if \"thrombosis\" in ds:\n",
    "    pos_lab = 'Thrombosis'\n",
    "\n",
    "biodata = pd.read_csv(ds, sep=\"\\t\")\n",
    "biodata.drop(['node'], axis='columns', inplace=True)\n",
    "\n",
    "#normalizing...\n",
    "for i in np.arange(biodata.shape[1]-1):\n",
    "    biodata.iloc[:, i] = (biodata.iloc[:, i] - min(biodata.iloc[:, i]))/(max(biodata.iloc[:, i]) - min(biodata.iloc[:, i]))\n",
    "\n"
   ]
  },
  {
   "cell_type": "code",
   "execution_count": 7,
   "metadata": {},
   "outputs": [],
   "source": [
    "dataset = biodata\n",
    "nrepetitions = 100\n",
    "class_idx = np.nan\n",
    "testSize_smaller_class = 10\n",
    "classThreshold = 0.5\n",
    "positive = 'Thrombosis'\n",
    "seed=100"
   ]
  },
  {
   "cell_type": "code",
   "execution_count": 8,
   "metadata": {},
   "outputs": [
    {
     "name": "stdout",
     "output_type": "stream",
     "text": [
      "Running SFC on label index = 5\n",
      "\n",
      "Class: Non_thrombosis -- Size: 283\n",
      "\n",
      "Class: Thrombosis -- Size: 136\n",
      "\n",
      "Positive class: Thrombosis | Negative Class:Non_thrombosis\n"
     ]
    }
   ],
   "source": [
    "np.random.seed(seed)\n",
    "if(np.isnan(class_idx)):\n",
    "    class_idx =  dataset.shape[1]-1\n",
    "\n",
    "print(f\"Running SFC on label index = {class_idx}\\n\")\n",
    "\n",
    "index_by_class = []\n",
    "smaller_size = dataset.shape[0]    \n",
    "\n",
    "for class_value in np.unique(dataset.iloc[:,class_idx]):\n",
    "    temp_idx = np.where(dataset.iloc[:,class_idx] == class_value)[0]\n",
    "    print(f\"Class: {class_value} -- Size: {len(temp_idx)}\\n\")\n",
    "    index_by_class.append(temp_idx)\n",
    "    if len(temp_idx) < smaller_size:\n",
    "        smaller_size = len(temp_idx)\n",
    "\n",
    "accuracy_vec = np.zeros((nrepetitions, len(index_by_class)))\n",
    "n_inst_threshold = np.zeros((nrepetitions, len(index_by_class)))\n",
    "\n",
    "negative = np.unique(dataset.iloc[:,class_idx]).tolist()\n",
    "negative.remove(positive)\n",
    "negative = negative[0]\n",
    "\n",
    "print(f\"Positive class: {positive} | Negative Class:{negative}\")\n",
    "f1 = []\n",
    "#temp1 = np.nan\n",
    "#temp2 = np.nan\n",
    "#temp3 = np.nan"
   ]
  },
  {
   "cell_type": "code",
   "execution_count": 9,
   "metadata": {},
   "outputs": [],
   "source": [
    "rep = 1\n"
   ]
  },
  {
   "cell_type": "code",
   "execution_count": 11,
   "metadata": {},
   "outputs": [],
   "source": [
    "def runXGBoost(train_fold, test_fold, positive, negative, metric = 'auc', class_idx = np.nan):\n",
    "    if(np.isnan(class_idx)):\n",
    "        class_idx =  train_fold.shape[1]-1\n",
    "\n",
    "    x_train = train_fold.drop(train_fold.columns[class_idx], axis=1)\n",
    "    y_train = train_fold.iloc[:,class_idx]\n",
    "    y_train.replace(to_replace=[negative, positive], value=[0,1], inplace=True)\n",
    "\n",
    "    x_val = test_fold.drop(test_fold.columns[class_idx], axis=1)\n",
    "    y_val = test_fold.iloc[:,class_idx]\n",
    "    y_val.replace(to_replace=[negative, positive], value=[0,1], inplace=True)\n",
    "\n",
    "    d_train = xgb.DMatrix(x_train, y_train)\n",
    "    d_test = xgb.DMatrix(x_val, y_val)\n",
    "\n",
    "    params = {'booster': 'gbtree',\n",
    "        'objective': \"binary:logistic\",\n",
    "        'nthread': 4,\n",
    "        'eval_metric': metric}\n",
    "\n",
    "    myfit = xgb.train(params = params,\n",
    "        dtrain = d_train,\n",
    "        num_boost_round = 100,\n",
    "        maximize = True)\n",
    "\n",
    "    return (myfit.predict(d_test))"
   ]
  },
  {
   "cell_type": "code",
   "execution_count": 13,
   "metadata": {},
   "outputs": [],
   "source": [
    "def get_statistical_weights(inputSet, ignore_class = np.nan):\n",
    "    \n",
    "    myWeights = np.repeat(np.nan, inputSet.shape[1]-1)\n",
    "\n",
    "    if(np.isnan(ignore_class)):\n",
    "        ignore_class =  inputSet.shape[1]-1\n",
    "\n",
    "    numpy2ri.activate()\n",
    "    coln = np.delete(np.arange(inputSet.shape[1]), ignore_class)    \n",
    "    for i in np.arange(len(coln)):\n",
    "        myWeights[i] = call_wilcox_R(inputSet.iloc[:,coln[i]],\n",
    "                            inputSet.iloc[:,ignore_class])\n",
    "\n",
    "        \n",
    "    numpy2ri.deactivate()\n",
    "\n",
    "    return (1/myWeights)"
   ]
  },
  {
   "cell_type": "code",
   "execution_count": 16,
   "metadata": {},
   "outputs": [],
   "source": [
    "import numpy as np\n",
    "import rpy2.robjects as robjects\n",
    "from rpy2.robjects import r\n",
    "from rpy2.robjects import numpy2ri\n",
    "import xgboost as xgb\n",
    "from sklearn.metrics import confusion_matrix\n",
    "from sklearn.metrics import f1_score\n",
    "\n",
    "def call_wilcox_R (x, y):\n",
    "    r.assign(\"x\", x.to_numpy())\n",
    "    r.assign(\"y\", y.to_numpy())\n",
    "    r('res<-wilcox.test(x~y)$statistic')\n",
    "    r_result = r(\"res\")\n",
    "    return (r_result[0])"
   ]
  },
  {
   "cell_type": "code",
   "execution_count": 18,
   "metadata": {},
   "outputs": [],
   "source": [
    "def weighted_mean(x, w):\n",
    "    return np.dot(x, w)/np.sum(w)"
   ]
  },
  {
   "cell_type": "code",
   "execution_count": 21,
   "metadata": {},
   "outputs": [
    {
     "name": "stdout",
     "output_type": "stream",
     "text": [
      "Analyzing iteration 1\n"
     ]
    }
   ],
   "source": [
    "print(f\"Analyzing iteration {rep}\")\n",
    "\n",
    "test_idx = np.random.choice(index_by_class[0], testSize_smaller_class, replace=False)\n",
    "train_idx = np.random.choice(np.delete(index_by_class[0],\n",
    "    np.where(np.isin(index_by_class[0], test_idx))), smaller_size, replace=False)\n",
    "\n",
    "\n",
    "for next_class in np.arange(start=1, stop=len(index_by_class)):\n",
    "    temp_test_idx = np.random.choice(index_by_class[next_class], testSize_smaller_class, replace=False)\n",
    "    test_idx = np.concatenate((test_idx, temp_test_idx))\n",
    "    train_idx = np.concatenate((train_idx, \n",
    "        np.random.choice(np.delete(index_by_class[next_class], \n",
    "        np.where(np.isin(index_by_class[0], temp_test_idx))), smaller_size, replace=False)))\n",
    "\n",
    "\n",
    "train_set = dataset.iloc[train_idx, :]\n",
    "test_set = dataset.iloc[test_idx, :]\n",
    "\n",
    "result_by_att = np.zeros((test_set.shape[0], test_set.shape[1]-1))\n",
    "#fitting a model per attribute\n",
    "for att in np.delete(np.arange(train_set.shape[1]), class_idx):\n",
    "    result_by_att[:, att] = runXGBoost(train_set.iloc[:, [att, class_idx]], \n",
    "                            test_set.iloc[:, [att, class_idx]], positive, negative)     \n",
    "\n",
    "statistical_weights = get_statistical_weights(train_set)\n",
    "prediction = np.apply_along_axis(weighted_mean, 1, result_by_att, w = statistical_weights)\n",
    "\n",
    "y_pred = np.repeat(0, test_set.shape[0])\n",
    "y_pred[np.where(prediction > classThreshold)] = 1\n",
    "y_true = test_set.iloc[:,class_idx].replace(to_replace=[negative, positive], value=[0,1])\n"
   ]
  },
  {
   "cell_type": "code",
   "execution_count": null,
   "metadata": {},
   "outputs": [],
   "source": [
    "acc_class1 = length(which(testSet$type == class1 & testSet$pred < (1 - classThreshold))) / length(which(testSet$type == class1 & (testSet$pred > classThreshold | testSet$pred < (1 - classThreshold)))) * 100\n"
   ]
  },
  {
   "cell_type": "code",
   "execution_count": 23,
   "metadata": {},
   "outputs": [
    {
     "data": {
      "text/plain": [
       "array([0.42853667, 0.38566353, 0.54498058, 0.39818268, 0.62742653,\n",
       "       0.3988251 , 0.53769019, 0.41419275, 0.53546336, 0.29730271,\n",
       "       0.75480496, 0.6722536 , 0.70516366, 0.71073357, 0.65790612,\n",
       "       0.60064691, 0.76164615, 0.7566317 , 0.55884421, 0.61391193])"
      ]
     },
     "execution_count": 23,
     "metadata": {},
     "output_type": "execute_result"
    }
   ],
   "source": [
    "prediction"
   ]
  },
  {
   "cell_type": "code",
   "execution_count": 37,
   "metadata": {},
   "outputs": [],
   "source": [
    "class1 = 0\n",
    "class2 = 1\n",
    "classThreshold = 0.6"
   ]
  },
  {
   "cell_type": "code",
   "execution_count": 38,
   "metadata": {},
   "outputs": [
    {
     "data": {
      "text/plain": [
       "array([0.42853667, 0.38566353, 0.54498058, 0.39818268, 0.62742653,\n",
       "       0.3988251 , 0.53769019, 0.41419275, 0.53546336, 0.29730271,\n",
       "       0.75480496, 0.6722536 , 0.70516366, 0.71073357, 0.65790612,\n",
       "       0.60064691, 0.76164615, 0.7566317 , 0.55884421, 0.61391193])"
      ]
     },
     "execution_count": 38,
     "metadata": {},
     "output_type": "execute_result"
    }
   ],
   "source": [
    "prediction"
   ]
  },
  {
   "cell_type": "code",
   "execution_count": 39,
   "metadata": {},
   "outputs": [
    {
     "data": {
      "text/plain": [
       "4"
      ]
     },
     "execution_count": 39,
     "metadata": {},
     "output_type": "execute_result"
    }
   ],
   "source": []
  },
  {
   "cell_type": "code",
   "execution_count": 41,
   "metadata": {},
   "outputs": [
    {
     "data": {
      "text/plain": [
       "5"
      ]
     },
     "execution_count": 41,
     "metadata": {},
     "output_type": "execute_result"
    }
   ],
   "source": []
  },
  {
   "cell_type": "code",
   "execution_count": null,
   "metadata": {},
   "outputs": [],
   "source": []
  },
  {
   "cell_type": "code",
   "execution_count": null,
   "metadata": {},
   "outputs": [],
   "source": []
  },
  {
   "cell_type": "code",
   "execution_count": null,
   "metadata": {},
   "outputs": [],
   "source": []
  }
 ],
 "metadata": {
  "kernelspec": {
   "display_name": "Python 3 (ipykernel)",
   "language": "python",
   "name": "python3"
  },
  "language_info": {
   "codemirror_mode": {
    "name": "ipython",
    "version": 3
   },
   "file_extension": ".py",
   "mimetype": "text/x-python",
   "name": "python",
   "nbconvert_exporter": "python",
   "pygments_lexer": "ipython3",
   "version": "3.8.10"
  }
 },
 "nbformat": 4,
 "nbformat_minor": 4
}
