{
 "cells": [
  {
   "cell_type": "code",
   "execution_count": 3,
   "metadata": {},
   "outputs": [],
   "source": [
    "import pandas as pd\n",
    "import numpy as np\n",
    "from collections import Counter\n",
    "from sklearn.utils import shuffle\n",
    "from data import read_dataset_v\n",
    "#from loguru import logger as log"
   ]
  },
  {
   "cell_type": "code",
   "execution_count": 132,
   "metadata": {},
   "outputs": [],
   "source": [
    "x, y = read_dataset_v()"
   ]
  },
  {
   "cell_type": "code",
   "execution_count": 133,
   "metadata": {},
   "outputs": [
    {
     "data": {
      "text/plain": [
       "Counter({0: 1254, 1: 63})"
      ]
     },
     "execution_count": 133,
     "metadata": {},
     "output_type": "execute_result"
    }
   ],
   "source": [
    "Counter(y)"
   ]
  },
  {
   "cell_type": "code",
   "execution_count": 51,
   "metadata": {},
   "outputs": [],
   "source": [
    "def balancing_train_test_by_minor(X, Y, percentage, rs, at='target', sm=False):\n",
    "    \n",
    "    X[at] = Y\n",
    "\n",
    "    size_minority = min(Counter(X[at]).values())\n",
    "    \n",
    "    p = np.ceil(size_minority * percentage).astype('int')\n",
    "    p_train = (size_minority - p)\n",
    "        \n",
    "    train = []\n",
    "    test = []\n",
    "    for classe in X[at].unique():\n",
    "        \n",
    "        df_class = X[X[at] == classe]\n",
    "        \n",
    "        test.append(df_class.iloc[:p])\n",
    "        train.append(df_class.iloc[p:p_train])\n",
    "        \n",
    "    df_train = pd.concat(train)\n",
    "    df_test = pd.concat(test)\n",
    "\n",
    "    # surffle\n",
    "    df_train = shuffle(df_train, random_state=rs)\n",
    "    df_test = shuffle(df_test, random_state=rs)\n",
    "    \n",
    "    y_train = df_train[at]\n",
    "    y_test = df_test[at]\n",
    "        \n",
    "    x_train = df_train.drop([at], axis=1)\n",
    "    x_test = df_test.drop([at], axis=1)   \n",
    "\n",
    "    if sm:\n",
    "        x_train, y_train = SMOTE().fit_resample(x_train, y_train)\n",
    "    \n",
    "    return x_train, y_train, x_test, y_test"
   ]
  },
  {
   "cell_type": "code",
   "execution_count": 45,
   "metadata": {},
   "outputs": [],
   "source": [
    "y = np.where(y > 0, 1, 0)"
   ]
  },
  {
   "cell_type": "code",
   "execution_count": 46,
   "metadata": {},
   "outputs": [
    {
     "data": {
      "text/plain": [
       "((1317, 8), (1317,))"
      ]
     },
     "execution_count": 46,
     "metadata": {},
     "output_type": "execute_result"
    }
   ],
   "source": [
    "x.shape, y.shape"
   ]
  },
  {
   "cell_type": "code",
   "execution_count": 47,
   "metadata": {},
   "outputs": [
    {
     "name": "stderr",
     "output_type": "stream",
     "text": [
      "2022-10-10 00:18:29.813 | INFO     | __main__:test_balacing:10 - size_minority: 63 p: 7: p_train: 56\n"
     ]
    }
   ],
   "source": [
    "x_train_raw, y_train_raw, x_test_raw, y_test_raw = test_balacing(x, y, 0.1, 1, False)"
   ]
  },
  {
   "cell_type": "code",
   "execution_count": 48,
   "metadata": {},
   "outputs": [
    {
     "data": {
      "text/plain": [
       "((98, 7), (98,), (14, 7), (14,))"
      ]
     },
     "execution_count": 48,
     "metadata": {},
     "output_type": "execute_result"
    }
   ],
   "source": [
    "x_train_raw.shape, y_train_raw.shape, x_test_raw.shape, y_test_raw.shape"
   ]
  },
  {
   "cell_type": "code",
   "execution_count": 49,
   "metadata": {},
   "outputs": [
    {
     "data": {
      "text/plain": [
       "(Counter({1: 49, 0: 49}), Counter({0: 7, 1: 7}))"
      ]
     },
     "execution_count": 49,
     "metadata": {},
     "output_type": "execute_result"
    }
   ],
   "source": [
    "Counter(y_train_raw), Counter(y_test_raw)"
   ]
  },
  {
   "cell_type": "code",
   "execution_count": 50,
   "metadata": {},
   "outputs": [
    {
     "data": {
      "text/plain": [
       "124.7"
      ]
     },
     "execution_count": 50,
     "metadata": {},
     "output_type": "execute_result"
    }
   ],
   "source": [
    "1247 * 0.1"
   ]
  },
  {
   "cell_type": "code",
   "execution_count": 26,
   "metadata": {},
   "outputs": [],
   "source": [
    "def double_maxclass_balance(X, Y, percentage, rs, at='target', sm=False):\n",
    "    \n",
    "    X[at] = Y\n",
    "\n",
    "    # surffle\n",
    "    X = shuffle(X, random_state=rs)\n",
    "   \n",
    "    size_minority = min(Counter(X[at]).values()) \n",
    "    \n",
    "    p = np.ceil(size_minority * percentage).astype('int')\n",
    "    p_train = (size_minority - p)\n",
    "    qtd_max_class = (size_minority * 2) + p\n",
    "\n",
    "    train = []\n",
    "    test = []\n",
    "    for classe in X[at].unique():\n",
    "        \n",
    "        df_class = X[X[at] == classe]\n",
    "        if len(df_class) == max(Counter(X[at]).values()): \n",
    "            test.append(df_class.iloc[:p])\n",
    "            train.append(df_class.iloc[p:qtd_max_class])\n",
    "        else:\n",
    "            test.append(df_class.iloc[:p])\n",
    "            train.append(df_class.iloc[p:p_train])\n",
    "        \n",
    "    df_train = pd.concat(train)\n",
    "    df_test = pd.concat(test)\n",
    "    \n",
    "    y_train = df_train[at]\n",
    "    y_test = df_test[at]\n",
    "        \n",
    "    x_train = df_train.drop([at], axis=1)\n",
    "    x_test = df_test.drop([at], axis=1)   \n",
    "\n",
    "    if sm:\n",
    "        x_train, y_train = SMOTE().fit_resample(x_train, y_train)\n",
    "    \n",
    "    return x_train, y_train, x_test, y_test"
   ]
  },
  {
   "cell_type": "code",
   "execution_count": 29,
   "metadata": {},
   "outputs": [
    {
     "name": "stdout",
     "output_type": "stream",
     "text": [
      "true\n"
     ]
    }
   ],
   "source": [
    "x_train_raw, y_train_raw, x_test_raw, y_test_raw = double_maxclass_balance(x, y, 0.1, 1, False)"
   ]
  },
  {
   "cell_type": "code",
   "execution_count": 32,
   "metadata": {},
   "outputs": [
    {
     "data": {
      "text/plain": [
       "Counter({0: 7, 1: 7})"
      ]
     },
     "execution_count": 32,
     "metadata": {},
     "output_type": "execute_result"
    }
   ],
   "source": [
    "Counter(y_test_raw)"
   ]
  },
  {
   "cell_type": "code",
   "execution_count": 118,
   "metadata": {},
   "outputs": [],
   "source": [
    "def balancing_train_test_by_minor(X, Y, percentage, rs, at='target', sm=False):\n",
    "    \n",
    "    X[at] = Y\n",
    "\n",
    "    size_minority = min(Counter(X[at]).values())\n",
    "    \n",
    "    p = np.ceil(size_minority * percentage).astype('int')\n",
    "    p_train = (size_minority - p)\n",
    "        \n",
    "    train = []\n",
    "    test = []\n",
    "    for classe in X[at].unique():\n",
    "        \n",
    "        df_class = X[X[at] == classe]\n",
    "        \n",
    "        # surffle\n",
    "        df_class = shuffle(df_class, random_state=rs)\n",
    "\n",
    "        test.append(df_class.iloc[:p])\n",
    "        train.append(df_class.iloc[p:p_train])\n",
    "        \n",
    "    df_train = pd.concat(train)\n",
    "    df_test = pd.concat(test)\n",
    "    \n",
    "    y_train = df_train[at]\n",
    "    y_test = df_test[at]\n",
    "        \n",
    "    x_train = df_train.drop([at], axis=1)\n",
    "    x_test = df_test.drop([at], axis=1)   \n",
    "\n",
    "    if sm:\n",
    "        x_train, y_train = SMOTE().fit_resample(x_train, y_train)\n",
    "    \n",
    "    return x_train, y_train, x_test, y_test\n"
   ]
  },
  {
   "cell_type": "code",
   "execution_count": 125,
   "metadata": {},
   "outputs": [],
   "source": [
    "def undersampling(X, Y, percentage, rs, at='target', increase=1, sm=False):\n",
    "    \n",
    "    X[at] = Y\n",
    "    \n",
    "    # surffle\n",
    "    X = shuffle(X, random_state=rs)\n",
    "\n",
    "    #size_minority = min(Counter(X[at]).values())\n",
    "    proportions = Counter(X[at])\n",
    "\n",
    "    class_minority = min(proportions, key=proportions.get)\n",
    "    size_minority  = proportions[class_minority]\n",
    "    \n",
    "    p = np.ceil(size_minority * percentage).astype('int')\n",
    "    p_train = (size_minority - p)\n",
    "        \n",
    "    train, test = [], []\n",
    "\n",
    "    for classe in X[at].unique():\n",
    "        \n",
    "        df_class = X[X[at] == classe]\n",
    "\n",
    "        if classe != class_minority:\n",
    "            train.append(df_class.iloc[p:(p_train*increase)])\n",
    "        else:\n",
    "            train.append(df_class.iloc[p:(p_train)])        \n",
    "            \n",
    "        test.append(df_class.iloc[:p])\n",
    "        #train.append(df_class.iloc[p:p_train])\n",
    "        \n",
    "    df_train = pd.concat(train)\n",
    "    df_test = pd.concat(test)\n",
    "    \n",
    "    y_train = df_train[at]\n",
    "    y_test = df_test[at]\n",
    "        \n",
    "    x_train = df_train.drop([at], axis=1)\n",
    "    x_test = df_test.drop([at], axis=1)   \n",
    "\n",
    "    if sm:\n",
    "        x_train, y_train = SMOTE().fit_resample(x_train, y_train)\n",
    "    \n",
    "    return x_train, y_train, x_test, y_test\n"
   ]
  },
  {
   "cell_type": "code",
   "execution_count": 152,
   "metadata": {},
   "outputs": [],
   "source": [
    "x_train_raw_1, y_train_raw_1, x_test_raw_1, y_test_raw_1 = undersampling(x, y, 0.15, 3, False)"
   ]
  },
  {
   "cell_type": "code",
   "execution_count": 153,
   "metadata": {},
   "outputs": [],
   "source": [
    "x_train_raw_2, y_train_raw_2, x_test_raw_2, y_test_raw_2 = undersampling(x, y, 0.15, 4, False)"
   ]
  },
  {
   "cell_type": "code",
   "execution_count": 143,
   "metadata": {},
   "outputs": [
    {
     "data": {
      "text/plain": [
       "Int64Index([1015, 1085,  720, 1071,  101,  812,  589,  386,  619, 1170,   65,\n",
       "            1277, 1082,   60,  459,  403,  262, 1047,  280,  304,  930,  341,\n",
       "              75,  604,  443,  303,  925, 1172, 1198,  268, 1226,  159,  790,\n",
       "             177,  798,   19,  419,  783, 1274, 1145,  685,  375,  702,  189,\n",
       "             383,  977,  546,  568,  817,  446, 1185,  326, 1197,  164,  474,\n",
       "             567,  548,   69,  897,  893, 1146,  502,  710,  736,  132,  998,\n",
       "             289,  841,   95, 1176,  846,  162,  863,  356,  399,  598, 1103,\n",
       "             272, 1131,  518,  105,  362,   70, 1025,  376, 1191],\n",
       "           dtype='int64')"
      ]
     },
     "execution_count": 143,
     "metadata": {},
     "output_type": "execute_result"
    }
   ],
   "source": [
    "x_train_raw_1.index"
   ]
  },
  {
   "cell_type": "code",
   "execution_count": 144,
   "metadata": {},
   "outputs": [
    {
     "data": {
      "text/plain": [
       "Int64Index([ 477, 1216,  552, 1195,  330,  439,  773, 1051,  960,  690, 1171,\n",
       "             363, 1315, 1224,  778, 1140, 1170,  812,  476,  732,  471, 1297,\n",
       "             437, 1269, 1018,  169, 1064,  397,  724,  945, 1308, 1229,  915,\n",
       "             188,  521,  470,  600, 1158, 1053, 1108,  738,  729,  464,  399,\n",
       "             546,  272,  356, 1197, 1184, 1191,  740,  164, 1131,  863,   62,\n",
       "            1257,  897,  598,  326,  846,  376,  710,  595, 1061,  893,  518,\n",
       "             289,  998,  736,  712,   69,  566,  626, 1025, 1176,  933,  383,\n",
       "            1146,  170,  162,   95,  817,  189, 1185,  362,  105],\n",
       "           dtype='int64')"
      ]
     },
     "execution_count": 144,
     "metadata": {},
     "output_type": "execute_result"
    }
   ],
   "source": [
    "x_train_raw_2.index"
   ]
  },
  {
   "cell_type": "code",
   "execution_count": 154,
   "metadata": {},
   "outputs": [
    {
     "data": {
      "text/plain": [
       "[566, 502]"
      ]
     },
     "execution_count": 154,
     "metadata": {},
     "output_type": "execute_result"
    }
   ],
   "source": [
    "list(set(y_test_raw_1.index) & set(y_test_raw_2.index))"
   ]
  },
  {
   "cell_type": "code",
   "execution_count": null,
   "metadata": {},
   "outputs": [],
   "source": []
  }
 ],
 "metadata": {
  "kernelspec": {
   "display_name": "Python 3",
   "language": "python",
   "name": "python3"
  },
  "language_info": {
   "codemirror_mode": {
    "name": "ipython",
    "version": 3
   },
   "file_extension": ".py",
   "mimetype": "text/x-python",
   "name": "python",
   "nbconvert_exporter": "python",
   "pygments_lexer": "ipython3",
   "version": "3.8.14"
  },
  "vscode": {
   "interpreter": {
    "hash": "a3e734639ba1d9545ccaf20c4b4a2f4ed73d7e5b4b90eb8250ccb0114c4b7ca1"
   }
  }
 },
 "nbformat": 4,
 "nbformat_minor": 4
}
