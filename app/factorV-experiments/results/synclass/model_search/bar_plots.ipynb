{
 "cells": [
  {
   "cell_type": "code",
   "execution_count": 1,
   "metadata": {},
   "outputs": [],
   "source": [
    "import pandas as pd"
   ]
  },
  {
   "cell_type": "code",
   "execution_count": 2,
   "metadata": {},
   "outputs": [],
   "source": [
    "def choose_best_tresh(data_syn) -> pd.DataFrame:\n",
    "    \n",
    "    best_mean = 0\n",
    "    best_tresh = 0\n",
    "    df_best = None\n",
    "    treshoulds = data_syn.THRE.unique()\n",
    "    \n",
    "    for tresh in treshoulds:\n",
    "        \n",
    "        df_tresh = data_syn[data_syn['THRE'] == tresh]\n",
    "        \n",
    "        mean_f1 = df_tresh.F1.mean()\n",
    "        \n",
    "        if mean_f1 > best_mean:\n",
    "            best_mean = mean_f1\n",
    "            df_best = df_tresh\n",
    "            best_tresh = tresh\n",
    "    \n",
    "    print(f'Best F1: {best_mean} - best Tresh: {df_best.THRE.unique()}')\n",
    "    print(f'Describe DF')\n",
    "    print(f'{df_tresh[df_tresh.THRE == best_tresh].describe()}')\n",
    "            \n",
    "    return df_best"
   ]
  },
  {
   "cell_type": "code",
   "execution_count": 4,
   "metadata": {},
   "outputs": [
    {
     "name": "stdout",
     "output_type": "stream",
     "text": [
      "Best F1: 0.5128992478504012 - best Tresh: [0.37]\n",
      "Describe DF\n",
      "        F1  ROC  acc-class-1  acc-class-2  AUC  THRE\n",
      "count  0.0  0.0          0.0          0.0  0.0   0.0\n",
      "mean   NaN  NaN          NaN          NaN  NaN   NaN\n",
      "std    NaN  NaN          NaN          NaN  NaN   NaN\n",
      "min    NaN  NaN          NaN          NaN  NaN   NaN\n",
      "25%    NaN  NaN          NaN          NaN  NaN   NaN\n",
      "50%    NaN  NaN          NaN          NaN  NaN   NaN\n",
      "75%    NaN  NaN          NaN          NaN  NaN   NaN\n",
      "max    NaN  NaN          NaN          NaN  NaN   NaN\n"
     ]
    }
   ],
   "source": [
    "test_size_synclass = 0.15\n",
    "dataf_synclass = pd.read_csv(f'balanced_FV_final_dataset_clean_{test_size_synclass}.csv')\n",
    "df_model = choose_best_tresh(dataf_synclass)\n"
   ]
  },
  {
   "cell_type": "code",
   "execution_count": null,
   "metadata": {},
   "outputs": [],
   "source": []
  }
 ],
 "metadata": {
  "kernelspec": {
   "display_name": "Python 3.8.14 64-bit ('ipkernel')",
   "language": "python",
   "name": "python3"
  },
  "language_info": {
   "codemirror_mode": {
    "name": "ipython",
    "version": 3
   },
   "file_extension": ".py",
   "mimetype": "text/x-python",
   "name": "python",
   "nbconvert_exporter": "python",
   "pygments_lexer": "ipython3",
   "version": "3.8.14"
  },
  "orig_nbformat": 4,
  "vscode": {
   "interpreter": {
    "hash": "a3e734639ba1d9545ccaf20c4b4a2f4ed73d7e5b4b90eb8250ccb0114c4b7ca1"
   }
  }
 },
 "nbformat": 4,
 "nbformat_minor": 2
}
