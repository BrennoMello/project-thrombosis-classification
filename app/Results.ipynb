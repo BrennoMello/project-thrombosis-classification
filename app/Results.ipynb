{
 "cells": [
  {
   "cell_type": "code",
   "execution_count": 2,
   "id": "9e099138-b489-4eb2-95d7-fc8d479bd3c8",
   "metadata": {},
   "outputs": [],
   "source": [
    "import numpy as np\n",
    "import pandas as pd"
   ]
  },
  {
   "cell_type": "markdown",
   "id": "f58ac030-0f4f-42f9-ad77-61ccda408a3c",
   "metadata": {},
   "source": [
    "## A - thrombosis_non_thrombosis"
   ]
  },
  {
   "cell_type": "code",
   "execution_count": 3,
   "id": "f0e27aad-535c-45ce-889c-4b84f7320740",
   "metadata": {},
   "outputs": [],
   "source": [
    "df = pd.read_csv('results/A-SVM-RS-ALL-10_Fds-9_norm-True_stand-False_smote-True_18-02-2022_18:18:15.csv')"
   ]
  },
  {
   "cell_type": "code",
   "execution_count": 4,
   "id": "c4318453-355b-430b-a9e1-72ac911c0db2",
   "metadata": {},
   "outputs": [],
   "source": [
    "models = df.model_name.unique()"
   ]
  },
  {
   "cell_type": "code",
   "execution_count": 5,
   "id": "463826f1-2b62-4c25-a6de-7c8dcc3da302",
   "metadata": {},
   "outputs": [
    {
     "name": "stdout",
     "output_type": "stream",
     "text": [
      "RandomForestClassifier - Mean F1: 0.5638065555555555 Acc class 1: 0.5952680824790021 Acc class 2: 0.6063877777324884\n",
      "KNN - Mean F1: 0.5182013333333333 Acc class 1: 0.5056673896430777 Acc class 2: 0.5652425286658488\n",
      "DecisionTree - Mean F1: 0.5375398888888888 Acc class 1: 0.5215672549375306 Acc class 2: 0.587671664102901\n",
      "SVM - Mean F1: 0.6263352222222222 Acc class 1: 0.5970814530999698 Acc class 2: 0.6797480014571391\n"
     ]
    }
   ],
   "source": [
    "for model in models:\n",
    "    df_model = df[df['model_name'] == model]\n",
    "    print(f'{model} - Mean F1: {np.mean(df_model.F1)} Acc class 1: {np.mean(df_model[\"acc-class-1\"])} Acc class 2: {np.mean(df_model[\"acc-class-2\"])}')"
   ]
  },
  {
   "cell_type": "code",
   "execution_count": 5,
   "id": "0f168260-c678-47ed-9186-e0bafa7f6934",
   "metadata": {},
   "outputs": [],
   "source": [
    "df_stack = pd.read_csv('results/A-STACK-RS-ALL-10_Fds-10_norm-True_stand-False_smote-True_08-02-2022_17:08:02.csv')"
   ]
  },
  {
   "cell_type": "code",
   "execution_count": 6,
   "id": "63451416-607e-49cc-b424-cd30f200eac1",
   "metadata": {},
   "outputs": [
    {
     "name": "stdout",
     "output_type": "stream",
     "text": [
      "SVM - Mean F1: 0.5700111 Acc class 1: 0.6147381150691962 Acc class 2: 0.5901702851214687\n"
     ]
    }
   ],
   "source": [
    "print(f'{model} - Mean F1: {np.mean(df_stack.F1)} Acc class 1: {np.mean(df_stack[\"acc-class-1\"])} Acc class 2: {np.mean(df_stack[\"acc-class-2\"])}')"
   ]
  },
  {
   "cell_type": "markdown",
   "id": "5979fe92-863e-435b-980d-d308f57f9d5e",
   "metadata": {},
   "source": [
    "## B-type_I_type_II"
   ]
  },
  {
   "cell_type": "code",
   "execution_count": 6,
   "id": "75f2170c-68a6-4593-a437-9cef0fee58c3",
   "metadata": {},
   "outputs": [],
   "source": [
    "df = pd.read_csv('results/B-RS-ALL-10_Fds-10_norm-True_stand-False_smote-True_18-02-2022_18:29:19.csv')\n",
    "models = df.model_name.unique()"
   ]
  },
  {
   "cell_type": "code",
   "execution_count": 7,
   "id": "c4d4359d-ec74-4fb6-9ece-94e907fd691c",
   "metadata": {},
   "outputs": [
    {
     "name": "stdout",
     "output_type": "stream",
     "text": [
      "RandomForestClassifier - Mean F1: 0.5933921 Acc class 1: 0.7072794238560829 Acc class 2: 0.6480101456217993\n",
      "KNN - Mean F1: 0.6040449 Acc class 1: 0.6554217571551085 Acc class 2: 0.6569405594405595\n",
      "DecisionTree - Mean F1: 0.5460614 Acc class 1: 0.5821769418189143 Acc class 2: 0.6137473656834121\n",
      "SVM - Mean F1: 0.5692988000000001 Acc class 1: 0.560727527116846 Acc class 2: 0.6457603006816308\n"
     ]
    }
   ],
   "source": [
    "for model in models:\n",
    "    df_model = df[df['model_name'] == model]\n",
    "    print(f'{model} - Mean F1: {np.mean(df_model.F1)} Acc class 1: {np.mean(df_model[\"acc-class-1\"])} Acc class 2: {np.mean(df_model[\"acc-class-2\"])}')"
   ]
  },
  {
   "cell_type": "markdown",
   "id": "0607bc63-5035-489c-a98d-9db73d5d9871",
   "metadata": {},
   "source": [
    "## C-type_I_PE_vs_Type_II"
   ]
  },
  {
   "cell_type": "markdown",
   "id": "da2051e4-b1d2-46ab-ba9d-b0ee89375401",
   "metadata": {},
   "source": [
    "### 10 folds, 2 test samples"
   ]
  },
  {
   "cell_type": "code",
   "execution_count": 10,
   "id": "4afca193-82da-4e09-8f83-40985def8af7",
   "metadata": {},
   "outputs": [],
   "source": [
    "df = pd.read_csv('results/C-RS-ALL-10_Fds-4_norm-True_stand-False_smote-True_18-02-2022_18:33:48.csv')\n",
    "models = df.model_name.unique()"
   ]
  },
  {
   "cell_type": "code",
   "execution_count": 11,
   "id": "93496691-5354-424e-98e7-5c9b68c40240",
   "metadata": {},
   "outputs": [
    {
     "name": "stdout",
     "output_type": "stream",
     "text": [
      "RandomForestClassifier - Mean F1: 0.6704554999999999 Acc class 1: 0.7601342630002346 Acc class 2: 0.7322151790478293\n",
      "KNN - Mean F1: 0.5719925 Acc class 1: 0.681025287095823 Acc class 2: 0.6081125640606009\n",
      "DecisionTree - Mean F1: 0.5896172500000001 Acc class 1: 0.7009368786345843 Acc class 2: 0.6081561818976007\n",
      "SVM - Mean F1: 0.65397725 Acc class 1: 0.7512048660392068 Acc class 2: 0.6243162112610708\n"
     ]
    }
   ],
   "source": [
    "for model in models:\n",
    "    df_model = df[df['model_name'] == model]\n",
    "    print(f'{model} - Mean F1: {np.mean(df_model.F1)} Acc class 1: {np.mean(df_model[\"acc-class-1\"])} Acc class 2: {np.mean(df_model[\"acc-class-2\"])}')"
   ]
  },
  {
   "cell_type": "markdown",
   "id": "eb909215-bbb8-48f5-999a-2c865f2c5fe8",
   "metadata": {},
   "source": [
    "## type_I_Type_II_no_PE"
   ]
  },
  {
   "cell_type": "code",
   "execution_count": 14,
   "id": "d5528309-b823-4ee8-b7c6-508a01d15542",
   "metadata": {},
   "outputs": [],
   "source": [
    "df = pd.read_csv('results/D-RS-ALL-10_Fds-4_norm-True_stand-False_smote-True_18-02-2022_18:42:05.csv')\n",
    "models = df.model_name.unique()"
   ]
  },
  {
   "cell_type": "code",
   "execution_count": 15,
   "id": "99e393ed-a4ae-4577-9373-2d37113cee7c",
   "metadata": {},
   "outputs": [
    {
     "name": "stdout",
     "output_type": "stream",
     "text": [
      "RandomForestClassifier - Mean F1: 0.63317325 Acc class 1: 0.7375286130985655 Acc class 2: 0.6509230808601518\n",
      "KNN - Mean F1: 0.62351325 Acc class 1: 0.7105837648124775 Acc class 2: 0.6246339973236257\n",
      "DecisionTree - Mean F1: 0.61246475 Acc class 1: 0.720893977345708 Acc class 2: 0.6167947121818076\n",
      "SVM - Mean F1: 0.635947 Acc class 1: 0.7225161265083642 Acc class 2: 0.6165988595168161\n"
     ]
    }
   ],
   "source": [
    "for model in models:\n",
    "    df_model = df[df['model_name'] == model]\n",
    "    print(f'{model} - Mean F1: {np.mean(df_model.F1)} Acc class 1: {np.mean(df_model[\"acc-class-1\"])} Acc class 2: {np.mean(df_model[\"acc-class-2\"])}')"
   ]
  },
  {
   "cell_type": "markdown",
   "id": "d933cde5",
   "metadata": {},
   "source": [
    "## Final Results"
   ]
  },
  {
   "cell_type": "markdown",
   "id": "9119c947",
   "metadata": {},
   "source": [
    "## "
   ]
  },
  {
   "cell_type": "code",
   "execution_count": 14,
   "id": "42182d41",
   "metadata": {},
   "outputs": [
    {
     "data": {
      "text/plain": [
       "array(['RandomForestClassifier', 'DecisionTree', 'KNN', 'OneClassSVM',\n",
       "       'LocalOutlierFactor', 'IsolationForest', 'Xgboost'], dtype=object)"
      ]
     },
     "execution_count": 14,
     "metadata": {},
     "output_type": "execute_result"
    }
   ],
   "source": [
    "df = pd.read_csv('results/final_data/D_type_I_vs_type_II_v3.csv')\n",
    "models = df.model_name.unique()\n",
    "models"
   ]
  },
  {
   "cell_type": "code",
   "execution_count": 15,
   "id": "3b5abcb8",
   "metadata": {},
   "outputs": [
    {
     "name": "stdout",
     "output_type": "stream",
     "text": [
      "RandomForestClassifier - Mean F1: 0.5421393999999999 Acc class 1: 0.3816558441558442 Acc class 2: 0.8517636103511625\n",
      "ROC: 0.5443060000000001 MCC: 0.1352717\n",
      "DecisionTree - Mean F1: 0.5397178 Acc class 1: 0.3698183760683761 Acc class 2: 0.8550301653270487\n",
      "ROC: 0.5496653 MCC: 0.13545809999999997\n",
      "KNN - Mean F1: 0.5200263 Acc class 1: 0.22762321012321013 Acc class 2: 0.8456832327029695\n",
      "ROC: 0.5237802 MCC: 0.0573466\n",
      "OneClassSVM - Mean F1: 0.5197900000000001 Acc class 1: 0.2864145658263305 Acc class 2: 0.9444444444444445\n",
      "ROC: 0.6487249999999999 MCC: 0.2618950000000001\n",
      "LocalOutlierFactor - Mean F1: 0.44927000000000006 Acc class 1: 0.19588744588744586 Acc class 2: 0.8560439560439561\n",
      "ROC: 0.5506349999999999 MCC: 0.07258000000000005\n",
      "IsolationForest - Mean F1: 0.5900071 Acc class 1: 0.30683474453951126 Acc class 2: 0.8787426576656203\n",
      "ROC: 0.6107095 MCC: 0.20139400000000005\n",
      "Xgboost - Mean F1: 0.5434189 Acc class 1: 0.33471428571428574 Acc class 2: 0.8511369127959564\n",
      "ROC: 0.5435558 MCC: 0.1246162\n"
     ]
    }
   ],
   "source": [
    "for model in models:\n",
    "    df_model = df[df['model_name'] == model]\n",
    "    print(f'{model} - Mean F1: {np.mean(df_model.F1)} Acc class 1: {np.mean(df_model[\"acc-class-1\"])} Acc class 2: {np.mean(df_model[\"acc-class-2\"])}')\n",
    "    print(f'ROC: {np.mean(df_model[\"ROC\"])} MCC: {np.mean(df_model[\"MCC\"])}')"
   ]
  },
  {
   "cell_type": "code",
   "execution_count": null,
   "id": "98677b8b",
   "metadata": {},
   "outputs": [],
   "source": []
  }
 ],
 "metadata": {
  "interpreter": {
   "hash": "916dbcbb3f70747c44a77c7bcd40155683ae19c65e1c03b4aa3499c5328201f1"
  },
  "kernelspec": {
   "display_name": "Python 3.9.7 64-bit",
   "language": "python",
   "name": "python3"
  },
  "language_info": {
   "codemirror_mode": {
    "name": "ipython",
    "version": 3
   },
   "file_extension": ".py",
   "mimetype": "text/x-python",
   "name": "python",
   "nbconvert_exporter": "python",
   "pygments_lexer": "ipython3",
   "version": "3.9.7"
  }
 },
 "nbformat": 4,
 "nbformat_minor": 5
}
