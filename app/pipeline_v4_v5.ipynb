{
 "cells": [
  {
   "cell_type": "code",
   "execution_count": 8,
   "id": "020fae86-4c75-468a-b484-9bbbe42a16c8",
   "metadata": {},
   "outputs": [],
   "source": [
    "import sys\n",
    "import time\n",
    "import pickle\n",
    "import warnings\n",
    "import random\n",
    "import pandas as pd\n",
    "import numpy as np\n",
    "from tqdm import tqdm\n",
    "from loguru import logger as log\n",
    "from warnings import simplefilter\n",
    "from sklearn.exceptions import ConvergenceWarning\n",
    "from sklearn.preprocessing import LabelEncoder\n",
    "from sklearn.model_selection import StratifiedKFold\n",
    "from datetime import datetime\n",
    "from collections import Counter\n",
    "\n",
    "from ialovecoffe.data import *\n",
    "from ialovecoffe.models import *\n",
    "from ialovecoffe.validation import computer_scores, computer_scores_outlier, accuracy_per_class\n",
    "from sklearn.model_selection import train_test_split\n",
    "\n",
    "#simplefilter(\"ignore\", category=[RuntimeWarning, ConvergenceWarning]) \n",
    "#simplefilter(\"ignore\", category=ConvergenceWarning)\n",
    "warnings.simplefilter(\"ignore\")"
   ]
  },
  {
   "cell_type": "code",
   "execution_count": 3,
   "id": "4302e1ee-e715-43fe-a367-56621c7cecd3",
   "metadata": {},
   "outputs": [],
   "source": [
    "random.seed(10)"
   ]
  },
  {
   "cell_type": "code",
   "execution_count": 4,
   "id": "6bb94339-5122-49f9-bf9d-e86ae0b82426",
   "metadata": {},
   "outputs": [],
   "source": [
    "def create_folds(X, Y, FOLDS: int):\n",
    "\n",
    "    skf = StratifiedKFold(n_splits=FOLDS, random_state=None, shuffle=False)\n",
    "\n",
    "    folds = []\n",
    "\n",
    "    for train_index, test_index in skf.split(X, Y):\n",
    "\n",
    "        x_train = X.iloc[train_index].to_numpy()\n",
    "        x_test = X.iloc[test_index].to_numpy()\n",
    "\n",
    "        y_train = Y[train_index]\n",
    "        y_test = Y[test_index]\n",
    "        \n",
    "        folds.append([x_train, y_train, x_test, y_test])\n",
    "\n",
    "    return folds"
   ]
  },
  {
   "cell_type": "code",
   "execution_count": 12,
   "id": "993b9acb-268c-480a-bd21-83885b6b078a",
   "metadata": {},
   "outputs": [],
   "source": [
    "def run_experiment(x, y, iterations, ts) -> pd.DataFrame:\n",
    "\n",
    "    data_results = []\n",
    "\n",
    "    results = {'model_name': [], 'iteration':[], 'F1':[], \n",
    "                'ROC':[],'acc-class-1':[],'acc-class-2':[], 'SEN':[], \n",
    "                'SPE':[], 'MCC':[], 'TPR': [], 'FPR':[], 'THRESH': []}\n",
    "\n",
    "    for i in tqdm(range(iterations)):\n",
    "\n",
    "        #folds = create_folds(x, y, 2)\n",
    "\n",
    "        #for j, fold in enumerate(folds):\n",
    "            \n",
    "        x_train, x_test, y_train, y_test = train_test_split(x, y, test_size=ts, random_state=42)\n",
    "\n",
    "        x_train = x_train.to_numpy()\n",
    "        x_test = x_test.to_numpy()\n",
    "        y_train = y_train.to_numpy()\n",
    "        y_test = y_test.to_numpy()\n",
    "\n",
    "        log.debug('-' * 30)\n",
    "        log.debug(f'Iteration {i}')\n",
    "        log.debug('-' * 30)\n",
    "            \n",
    "        model, y_pred, y_pred_prob = RSRF(x_train, y_train, x_test, y_test)\n",
    "        sen, spe, f1, roc, jac, fmi, mcc, fpr, tpr, thresh = computer_scores(y_test, y_pred, y_pred_prob)\n",
    "        acc1, acc2 = accuracy_per_class(y_test, y_pred)\n",
    "        results['model_name'].append('RandomForest')\n",
    "        results['iteration'].append(i)\n",
    "        results['acc-class-1'].append(acc1)\n",
    "        results['acc-class-2'].append(acc2)\n",
    "        results['F1'].append(f1)\n",
    "        results['ROC'].append(roc)\n",
    "        results['SEN'].append(sen)\n",
    "        results['SPE'].append(spe)\n",
    "        results['MCC'].append(mcc)\n",
    "        results['FPR'].append(fpr)\n",
    "        results['TPR'].append(tpr)\n",
    "        results['THRESH'].append(thresh)\n",
    "        log.debug(f'RF .......: {f1}')\n",
    "\n",
    "        \n",
    "        model, y_pred, y_pred_prob = RSDT(x_train, y_train, x_test, y_test)\n",
    "        sen, spe, f1, roc, jac, fmi, mcc, fpr, tpr, thresh = computer_scores(y_test, y_pred, y_pred_prob)\n",
    "        acc1, acc2 = accuracy_per_class(y_test, y_pred)\n",
    "        results['model_name'].append('DecisionTree')\n",
    "        results['iteration'].append(i)\n",
    "        results['acc-class-1'].append(acc1)\n",
    "        results['acc-class-2'].append(acc2)\n",
    "        results['F1'].append(f1)\n",
    "        results['ROC'].append(roc)\n",
    "        results['SEN'].append(sen)\n",
    "        results['SPE'].append(spe)\n",
    "        results['MCC'].append(mcc)\n",
    "        results['FPR'].append(fpr)\n",
    "        results['TPR'].append(tpr)\n",
    "        results['THRESH'].append(thresh)\n",
    "        log.debug(f'DT .......: {f1}')\n",
    "\n",
    "        model, y_pred, y_pred_prob = RSNN(x_train, y_train, x_test, y_test)\n",
    "        sen, spe, f1, roc, jac, fmi, mcc, fpr, tpr, thresh = computer_scores(y_test, y_pred, y_pred_prob)\n",
    "        acc1, acc2 = accuracy_per_class(y_test, y_pred)\n",
    "        results['model_name'].append('KNN')\n",
    "        results['iteration'].append(i)\n",
    "        results['F1'].append(f1)\n",
    "        results['acc-class-1'].append(acc1)\n",
    "        results['acc-class-2'].append(acc2)\n",
    "        results['ROC'].append(roc)\n",
    "        results['SEN'].append(sen)\n",
    "        results['SPE'].append(spe)\n",
    "        results['MCC'].append(mcc)\n",
    "        results['FPR'].append(fpr)\n",
    "        results['TPR'].append(tpr)\n",
    "        results['THRESH'].append(thresh)\n",
    "        log.debug(f'KNN ......: {f1}')\n",
    "            \n",
    "        model, y_pred = RSOneClassSVM(x_train, y_train, x_test, y_test)\n",
    "        sen, spe, f1, roc, jac, fmi, mcc, fpr, tpr, thresh = computer_scores_outlier(y_test, y_pred)\n",
    "        acc1, acc2 = accuracy_per_class(y_test, y_pred)\n",
    "        results['model_name'].append('OneClassSVM')\n",
    "        results['iteration'].append(i)\n",
    "        results['acc-class-1'].append(acc1)\n",
    "        results['acc-class-2'].append(acc2)\n",
    "        results['F1'].append(f1)\n",
    "        results['ROC'].append(roc)\n",
    "        results['SEN'].append(sen)\n",
    "        results['SPE'].append(spe)\n",
    "        results['MCC'].append(mcc)\n",
    "        results['FPR'].append(fpr)\n",
    "        results['TPR'].append(tpr)\n",
    "        results['THRESH'].append(thresh)\n",
    "        log.debug(f'OneClassSVM ......: {f1}')\n",
    "\n",
    "        model, y_pred = RSLocalOutlierFactor(x_train, y_train, x_test, y_test)\n",
    "        sen, spe, f1, roc, jac, fmi, mcc, fpr, tpr, thresh = computer_scores_outlier(y_test, y_pred)\n",
    "        acc1, acc2 = accuracy_per_class(y_test, y_pred)\n",
    "        results['model_name'].append('LocalOutlierFactor')\n",
    "        results['iteration'].append(i)\n",
    "        results['acc-class-1'].append(acc1)\n",
    "        results['acc-class-2'].append(acc2)\n",
    "        results['F1'].append(f1)\n",
    "        results['ROC'].append(roc)\n",
    "        results['SEN'].append(sen)\n",
    "        results['SPE'].append(spe)\n",
    "        results['MCC'].append(mcc)\n",
    "        results['FPR'].append(fpr)\n",
    "        results['TPR'].append(tpr)\n",
    "        results['THRESH'].append(thresh)\n",
    "        log.debug(f'LocalOutlierFactor ......: {f1}')\n",
    "\n",
    "        model, y_pred = RSIsolationForest(x_train, y_train, x_test, y_test)\n",
    "        sen, spe, f1, roc, jac, fmi, mcc, fpr, tpr, thresh = computer_scores_outlier(y_test, y_pred)\n",
    "        acc1, acc2 = accuracy_per_class(y_test, y_pred)\n",
    "        results['model_name'].append('IsolationForest')\n",
    "        results['iteration'].append(i)\n",
    "        results['acc-class-1'].append(acc1)\n",
    "        results['acc-class-2'].append(acc2)\n",
    "        results['F1'].append(f1)\n",
    "        results['ROC'].append(roc)\n",
    "        results['SEN'].append(sen)\n",
    "        results['SPE'].append(spe)\n",
    "        results['MCC'].append(mcc)\n",
    "        results['FPR'].append(fpr)\n",
    "        results['TPR'].append(tpr)\n",
    "        results['THRESH'].append(thresh)\n",
    "        log.debug(f'IsolationForest ......: {f1}')\n",
    "\n",
    "        model, y_pred, y_pred_prob = RSXgboost(x_train, y_train, x_test, y_test)\n",
    "        sen, spe, f1, roc, jac, fmi, mcc, fpr, tpr, thresh = computer_scores(y_test, y_pred, y_pred_prob)\n",
    "        acc1, acc2 = accuracy_per_class(y_test, y_pred)\n",
    "        results['model_name'].append('Xgboost')\n",
    "        results['iteration'].append(i)\n",
    "        results['acc-class-1'].append(acc1)\n",
    "        results['acc-class-2'].append(acc2)\n",
    "        results['F1'].append(f1)\n",
    "        results['ROC'].append(roc)\n",
    "        results['SEN'].append(sen)\n",
    "        results['SPE'].append(spe)\n",
    "        results['MCC'].append(mcc)\n",
    "        results['FPR'].append(fpr)\n",
    "        results['TPR'].append(tpr)\n",
    "        results['THRESH'].append(thresh)\n",
    "        log.debug(f'Xgboost ......: {f1}')\n",
    "        \n",
    "        log.debug('\\n')\n",
    "\n",
    "\n",
    "    df_fold = pd.DataFrame(results)\n",
    "    models = df_fold['model_name'].unique()\n",
    "    log.info('\\n')\n",
    "    log.info('-' * 30)\n",
    "    for model in models:\n",
    "\n",
    "        df_model = df_fold[df_fold['model_name'] == model]\n",
    "        mean_f1 = float(f'{np.mean(df_model[\"F1\"]):.2f}')\n",
    "\n",
    "        log.info(f'MODEL {model} with .....: {mean_f1}')\n",
    "\n",
    "    #data_results.append(df_fold)\n",
    "    #log.info('-' * 30)\n",
    "\n",
    "    #return pd.concat(data_results)\n",
    "    return df_fold"
   ]
  },
  {
   "cell_type": "code",
   "execution_count": 6,
   "id": "821d1b79-d74e-4e81-9e8b-f33c351da43c",
   "metadata": {},
   "outputs": [],
   "source": [
    "NUM_ITER = 50"
   ]
  },
  {
   "cell_type": "code",
   "execution_count": 7,
   "id": "b8e5cc6c-2fd2-41ee-96f2-d488280bafae",
   "metadata": {},
   "outputs": [],
   "source": [
    "def process_A():\n",
    "    '''\n",
    "    READ DATA\n",
    "    '''\n",
    "    x, y = read_A_thrombosis_non_thrombosis_v5()\n",
    "    \n",
    "    \n",
    "    y.replace(to_replace=[\"Non_thrombosis\", \"Thrombosis\"], value=[0, 1], inplace=True)\n",
    "\n",
    "    # run\n",
    "    df = run_experiment(x, y, NUM_ITER)\n",
    "    df.to_csv('results/results_v4_v5/A_thrombosis_non_thrombosis_v5.csv', index=False)\n",
    "    \n",
    "    # only show mean metrics\n",
    "    models = df['model_name'].unique()\n",
    "    for model in models:\n",
    "\n",
    "        df_model = df[df['model_name'] == model]\n",
    "        mean_f1 = float(f'{np.mean(df_model[\"F1\"]):.2f}')\n",
    "        log.info(f'MODEL {model} with .....: {mean_f1}')\n"
   ]
  },
  {
   "cell_type": "code",
   "execution_count": 37,
   "id": "00ad4b94-f481-4c02-8c15-5f5e6896c9df",
   "metadata": {},
   "outputs": [
    {
     "data": {
      "text/plain": [
       "(417, 7)"
      ]
     },
     "execution_count": 37,
     "metadata": {},
     "output_type": "execute_result"
    }
   ],
   "source": [
    "x, y = read_A_thrombosis_non_thrombosis_v5()\n",
    "x.shape"
   ]
  },
  {
   "cell_type": "code",
   "execution_count": 43,
   "id": "820bfcb0-90c6-44f0-ab71-56c2c9d12aeb",
   "metadata": {},
   "outputs": [
    {
     "data": {
      "text/html": [
       "<div>\n",
       "<style scoped>\n",
       "    .dataframe tbody tr th:only-of-type {\n",
       "        vertical-align: middle;\n",
       "    }\n",
       "\n",
       "    .dataframe tbody tr th {\n",
       "        vertical-align: top;\n",
       "    }\n",
       "\n",
       "    .dataframe thead th {\n",
       "        text-align: right;\n",
       "    }\n",
       "</style>\n",
       "<table border=\"1\" class=\"dataframe\">\n",
       "  <thead>\n",
       "    <tr style=\"text-align: right;\">\n",
       "      <th></th>\n",
       "      <th>dg</th>\n",
       "      <th>bt</th>\n",
       "      <th>cl</th>\n",
       "      <th>pr</th>\n",
       "      <th>auth</th>\n",
       "      <th>relSESA</th>\n",
       "      <th>consurf</th>\n",
       "      <th>target</th>\n",
       "    </tr>\n",
       "  </thead>\n",
       "  <tbody>\n",
       "    <tr>\n",
       "      <th>0</th>\n",
       "      <td>8</td>\n",
       "      <td>0.025472</td>\n",
       "      <td>0.260783</td>\n",
       "      <td>0.003314</td>\n",
       "      <td>0.144998</td>\n",
       "      <td>0.084348</td>\n",
       "      <td>1.713</td>\n",
       "      <td>Non_thrombosis</td>\n",
       "    </tr>\n",
       "    <tr>\n",
       "      <th>1</th>\n",
       "      <td>4</td>\n",
       "      <td>0.004383</td>\n",
       "      <td>0.231801</td>\n",
       "      <td>0.001794</td>\n",
       "      <td>0.048901</td>\n",
       "      <td>0.831449</td>\n",
       "      <td>3.237</td>\n",
       "      <td>Non_thrombosis</td>\n",
       "    </tr>\n",
       "    <tr>\n",
       "      <th>2</th>\n",
       "      <td>7</td>\n",
       "      <td>0.005611</td>\n",
       "      <td>0.238478</td>\n",
       "      <td>0.003224</td>\n",
       "      <td>0.250893</td>\n",
       "      <td>0.193362</td>\n",
       "      <td>1.526</td>\n",
       "      <td>Non_thrombosis</td>\n",
       "    </tr>\n",
       "    <tr>\n",
       "      <th>3</th>\n",
       "      <td>3</td>\n",
       "      <td>0.001928</td>\n",
       "      <td>0.209895</td>\n",
       "      <td>0.001452</td>\n",
       "      <td>0.031038</td>\n",
       "      <td>0.640557</td>\n",
       "      <td>1.916</td>\n",
       "      <td>Non_thrombosis</td>\n",
       "    </tr>\n",
       "    <tr>\n",
       "      <th>4</th>\n",
       "      <td>4</td>\n",
       "      <td>0.003534</td>\n",
       "      <td>0.200209</td>\n",
       "      <td>0.002539</td>\n",
       "      <td>0.046188</td>\n",
       "      <td>0.626411</td>\n",
       "      <td>0.670</td>\n",
       "      <td>Non_thrombosis</td>\n",
       "    </tr>\n",
       "  </tbody>\n",
       "</table>\n",
       "</div>"
      ],
      "text/plain": [
       "   dg        bt        cl        pr      auth   relSESA  consurf  \\\n",
       "0   8  0.025472  0.260783  0.003314  0.144998  0.084348    1.713   \n",
       "1   4  0.004383  0.231801  0.001794  0.048901  0.831449    3.237   \n",
       "2   7  0.005611  0.238478  0.003224  0.250893  0.193362    1.526   \n",
       "3   3  0.001928  0.209895  0.001452  0.031038  0.640557    1.916   \n",
       "4   4  0.003534  0.200209  0.002539  0.046188  0.626411    0.670   \n",
       "\n",
       "           target  \n",
       "0  Non_thrombosis  \n",
       "1  Non_thrombosis  \n",
       "2  Non_thrombosis  \n",
       "3  Non_thrombosis  \n",
       "4  Non_thrombosis  "
      ]
     },
     "execution_count": 43,
     "metadata": {},
     "output_type": "execute_result"
    }
   ],
   "source": [
    "x['target'] = y\n",
    "x.head()"
   ]
  },
  {
   "cell_type": "code",
   "execution_count": 38,
   "id": "9f626a3e-eb56-4a24-9b97-ae40f73fc278",
   "metadata": {},
   "outputs": [
    {
     "data": {
      "text/plain": [
       "((417, 7), (417,))"
      ]
     },
     "execution_count": 38,
     "metadata": {},
     "output_type": "execute_result"
    }
   ],
   "source": [
    "x.shape, y.shape"
   ]
  },
  {
   "cell_type": "code",
   "execution_count": 39,
   "id": "3e5153ab-071b-4f2c-aa70-9413e8665df2",
   "metadata": {},
   "outputs": [
    {
     "data": {
      "text/plain": [
       "Counter({'Non_thrombosis': 283, 'Thrombosis': 134})"
      ]
     },
     "execution_count": 39,
     "metadata": {},
     "output_type": "execute_result"
    }
   ],
   "source": [
    "Counter(y)"
   ]
  },
  {
   "cell_type": "code",
   "execution_count": 40,
   "id": "16409f13-f2bd-453b-b6b7-78fd644f1805",
   "metadata": {},
   "outputs": [
    {
     "data": {
      "text/plain": [
       "134"
      ]
     },
     "execution_count": 40,
     "metadata": {},
     "output_type": "execute_result"
    }
   ],
   "source": [
    "size_minority = min(Counter(y).values())\n",
    "size_minority"
   ]
  },
  {
   "cell_type": "code",
   "execution_count": 83,
   "id": "f3841199-5e6a-4815-aabc-493d3f3345bc",
   "metadata": {},
   "outputs": [
    {
     "data": {
      "text/plain": [
       "14"
      ]
     },
     "execution_count": 83,
     "metadata": {},
     "output_type": "execute_result"
    }
   ],
   "source": [
    "p = np.ceil(size_minority * 0.1).astype('int')\n",
    "p"
   ]
  },
  {
   "cell_type": "code",
   "execution_count": 95,
   "id": "2b29e91e-592c-4728-a36c-02f6ea6e807c",
   "metadata": {},
   "outputs": [],
   "source": [
    "def test_balacing(X, Y, percentage, at='target'):\n",
    "    \n",
    "    X[at] = Y\n",
    "    \n",
    "    p = np.ceil(size_minority * percentage).astype('int')\n",
    "    train = []\n",
    "    test = []\n",
    "    for classe in X[at].unique():\n",
    "        \n",
    "        df_class = x[x[at] == classe]\n",
    "        \n",
    "        test.append(df_class.iloc[:p])\n",
    "        train.append(df_class.iloc[p:])\n",
    "        \n",
    "    df_train = pd.concat(train)\n",
    "    df_test = pd.concat(test)\n",
    "    \n",
    "    #print(df_train.head())\n",
    "    \n",
    "    y_train = df_train[at]\n",
    "    y_test = df_test[at]\n",
    "        \n",
    "    x_train = df_train.drop([at], axis=1)\n",
    "    x_test = df_test.drop([at], axis=1)   \n",
    "    \n",
    "    return x_train, y_train, x_test, y_test"
   ]
  },
  {
   "cell_type": "code",
   "execution_count": 98,
   "id": "1c91e7a5-38cd-40a6-870f-0e5599e9e885",
   "metadata": {},
   "outputs": [
    {
     "data": {
      "text/plain": [
       "((389, 7), (389,), (28, 7), (28,))"
      ]
     },
     "execution_count": 98,
     "metadata": {},
     "output_type": "execute_result"
    }
   ],
   "source": [
    "x_train, y_train, x_test, y_test = test_balacing(x, y, 0.1)\n",
    "x_train.shape, y_train.shape, x_test.shape, y_test.shape"
   ]
  },
  {
   "cell_type": "code",
   "execution_count": 99,
   "id": "38bad08e-1acc-499e-a159-87fa16f3a686",
   "metadata": {},
   "outputs": [
    {
     "data": {
      "text/html": [
       "<div>\n",
       "<style scoped>\n",
       "    .dataframe tbody tr th:only-of-type {\n",
       "        vertical-align: middle;\n",
       "    }\n",
       "\n",
       "    .dataframe tbody tr th {\n",
       "        vertical-align: top;\n",
       "    }\n",
       "\n",
       "    .dataframe thead th {\n",
       "        text-align: right;\n",
       "    }\n",
       "</style>\n",
       "<table border=\"1\" class=\"dataframe\">\n",
       "  <thead>\n",
       "    <tr style=\"text-align: right;\">\n",
       "      <th></th>\n",
       "      <th>dg</th>\n",
       "      <th>bt</th>\n",
       "      <th>cl</th>\n",
       "      <th>pr</th>\n",
       "      <th>auth</th>\n",
       "      <th>relSESA</th>\n",
       "      <th>consurf</th>\n",
       "    </tr>\n",
       "  </thead>\n",
       "  <tbody>\n",
       "    <tr>\n",
       "      <th>17</th>\n",
       "      <td>6</td>\n",
       "      <td>0.005519</td>\n",
       "      <td>0.221091</td>\n",
       "      <td>0.002968</td>\n",
       "      <td>0.012660</td>\n",
       "      <td>0.697812</td>\n",
       "      <td>-0.329</td>\n",
       "    </tr>\n",
       "    <tr>\n",
       "      <th>18</th>\n",
       "      <td>3</td>\n",
       "      <td>0.000080</td>\n",
       "      <td>0.191485</td>\n",
       "      <td>0.001811</td>\n",
       "      <td>0.004993</td>\n",
       "      <td>0.965468</td>\n",
       "      <td>-0.811</td>\n",
       "    </tr>\n",
       "    <tr>\n",
       "      <th>19</th>\n",
       "      <td>3</td>\n",
       "      <td>0.001434</td>\n",
       "      <td>0.206157</td>\n",
       "      <td>0.001736</td>\n",
       "      <td>0.003549</td>\n",
       "      <td>0.890655</td>\n",
       "      <td>0.299</td>\n",
       "    </tr>\n",
       "    <tr>\n",
       "      <th>21</th>\n",
       "      <td>4</td>\n",
       "      <td>0.015834</td>\n",
       "      <td>0.233831</td>\n",
       "      <td>0.001542</td>\n",
       "      <td>0.010145</td>\n",
       "      <td>0.593749</td>\n",
       "      <td>-0.249</td>\n",
       "    </tr>\n",
       "    <tr>\n",
       "      <th>22</th>\n",
       "      <td>4</td>\n",
       "      <td>0.006965</td>\n",
       "      <td>0.225426</td>\n",
       "      <td>0.003006</td>\n",
       "      <td>0.010210</td>\n",
       "      <td>0.610521</td>\n",
       "      <td>-0.691</td>\n",
       "    </tr>\n",
       "  </tbody>\n",
       "</table>\n",
       "</div>"
      ],
      "text/plain": [
       "    dg        bt        cl        pr      auth   relSESA  consurf\n",
       "17   6  0.005519  0.221091  0.002968  0.012660  0.697812   -0.329\n",
       "18   3  0.000080  0.191485  0.001811  0.004993  0.965468   -0.811\n",
       "19   3  0.001434  0.206157  0.001736  0.003549  0.890655    0.299\n",
       "21   4  0.015834  0.233831  0.001542  0.010145  0.593749   -0.249\n",
       "22   4  0.006965  0.225426  0.003006  0.010210  0.610521   -0.691"
      ]
     },
     "execution_count": 99,
     "metadata": {},
     "output_type": "execute_result"
    }
   ],
   "source": [
    "x_train.head()"
   ]
  },
  {
   "cell_type": "code",
   "execution_count": 85,
   "id": "e216ee52-2fbc-410f-8bc5-5250d04eed4f",
   "metadata": {},
   "outputs": [
    {
     "name": "stderr",
     "output_type": "stream",
     "text": [
      "2022-07-07 22:26:57.017 | INFO     | __main__:<cell line: 3>:11 - CLASS: Non_thrombosis - TRAIN: (269, 8) TEST: (14, 8)\n",
      "2022-07-07 22:26:57.021 | INFO     | __main__:<cell line: 3>:11 - CLASS: Thrombosis - TRAIN: (120, 8) TEST: (14, 8)\n"
     ]
    }
   ],
   "source": [
    "att_target = 'target'\n",
    "subset = []\n",
    "for classe in x[att_target].unique():\n",
    "    subset.append(x[x[att_target] == classe])\n",
    "    \n",
    "    df_class = x[x[att_target] == classe]\n",
    "    \n",
    "    test = df_class.iloc[:p]\n",
    "    train = df_class.iloc[p:]\n",
    "   \n",
    "    log.info(f'CLASS: {classe} - TRAIN: {train.shape} TEST: {test.shape}')\n",
    "    # balancer as instâncias de teste\n",
    "    \n",
    "#data_train_balanced = pd.concat(subset)"
   ]
  },
  {
   "cell_type": "code",
   "execution_count": 86,
   "id": "e3ed1e00-a4c4-480f-b47a-8680440fe9d7",
   "metadata": {},
   "outputs": [
    {
     "data": {
      "text/plain": [
       "283"
      ]
     },
     "execution_count": 86,
     "metadata": {},
     "output_type": "execute_result"
    }
   ],
   "source": [
    "269 + 14"
   ]
  },
  {
   "cell_type": "code",
   "execution_count": 87,
   "id": "5252e738-6eeb-428e-9738-09927e58270d",
   "metadata": {},
   "outputs": [
    {
     "data": {
      "text/plain": [
       "134"
      ]
     },
     "execution_count": 87,
     "metadata": {},
     "output_type": "execute_result"
    }
   ],
   "source": [
    "120 + 14"
   ]
  },
  {
   "cell_type": "code",
   "execution_count": 48,
   "id": "6e968fd5-d47d-42ca-92c3-01a1937733c7",
   "metadata": {},
   "outputs": [
    {
     "data": {
      "text/plain": [
       "Counter({'Non_thrombosis': 134, 'Thrombosis': 134})"
      ]
     },
     "execution_count": 48,
     "metadata": {},
     "output_type": "execute_result"
    }
   ],
   "source": [
    "Counter(data_train_balanced['target'])"
   ]
  },
  {
   "cell_type": "code",
   "execution_count": 76,
   "id": "35460d1f-c317-4080-b07f-2696eaf37a7c",
   "metadata": {},
   "outputs": [
    {
     "data": {
      "text/plain": [
       "[0,\n",
       " 1,\n",
       " 2,\n",
       " 3,\n",
       " 4,\n",
       " 5,\n",
       " 8,\n",
       " 9,\n",
       " 10,\n",
       " 11,\n",
       " 12,\n",
       " 13,\n",
       " 14,\n",
       " 16,\n",
       " 17,\n",
       " 18,\n",
       " 19,\n",
       " 21,\n",
       " 22,\n",
       " 24,\n",
       " 25,\n",
       " 26,\n",
       " 27,\n",
       " 28,\n",
       " 29,\n",
       " 30,\n",
       " 34,\n",
       " 35,\n",
       " 36,\n",
       " 38,\n",
       " 39,\n",
       " 45,\n",
       " 46,\n",
       " 47,\n",
       " 50,\n",
       " 51,\n",
       " 53,\n",
       " 54,\n",
       " 55,\n",
       " 56,\n",
       " 57,\n",
       " 58,\n",
       " 59,\n",
       " 60,\n",
       " 61,\n",
       " 62,\n",
       " 63,\n",
       " 64,\n",
       " 67,\n",
       " 73,\n",
       " 74,\n",
       " 76,\n",
       " 78,\n",
       " 82,\n",
       " 85,\n",
       " 88,\n",
       " 89,\n",
       " 90,\n",
       " 92,\n",
       " 93,\n",
       " 94,\n",
       " 95,\n",
       " 96,\n",
       " 97,\n",
       " 98,\n",
       " 102,\n",
       " 104,\n",
       " 106,\n",
       " 107,\n",
       " 112,\n",
       " 116,\n",
       " 117,\n",
       " 118,\n",
       " 119,\n",
       " 121,\n",
       " 123,\n",
       " 124,\n",
       " 125,\n",
       " 126,\n",
       " 127,\n",
       " 128,\n",
       " 129,\n",
       " 132,\n",
       " 134,\n",
       " 135,\n",
       " 136,\n",
       " 138,\n",
       " 139,\n",
       " 140,\n",
       " 141,\n",
       " 142,\n",
       " 143,\n",
       " 144,\n",
       " 145,\n",
       " 146,\n",
       " 147,\n",
       " 148,\n",
       " 149,\n",
       " 150,\n",
       " 153,\n",
       " 154,\n",
       " 155,\n",
       " 156,\n",
       " 157,\n",
       " 159,\n",
       " 160,\n",
       " 162,\n",
       " 163,\n",
       " 164,\n",
       " 165,\n",
       " 166,\n",
       " 168,\n",
       " 169,\n",
       " 170,\n",
       " 172,\n",
       " 173,\n",
       " 175,\n",
       " 177,\n",
       " 178,\n",
       " 182,\n",
       " 183,\n",
       " 184,\n",
       " 185,\n",
       " 186,\n",
       " 189,\n",
       " 190,\n",
       " 191,\n",
       " 192,\n",
       " 193,\n",
       " 194,\n",
       " 195,\n",
       " 197,\n",
       " 201,\n",
       " 205,\n",
       " 6,\n",
       " 7,\n",
       " 15,\n",
       " 20,\n",
       " 23,\n",
       " 31,\n",
       " 32,\n",
       " 33,\n",
       " 37,\n",
       " 40,\n",
       " 41,\n",
       " 42,\n",
       " 43,\n",
       " 44,\n",
       " 48,\n",
       " 49,\n",
       " 52,\n",
       " 65,\n",
       " 66,\n",
       " 68,\n",
       " 69,\n",
       " 70,\n",
       " 71,\n",
       " 72,\n",
       " 75,\n",
       " 77,\n",
       " 79,\n",
       " 80,\n",
       " 81,\n",
       " 83,\n",
       " 84,\n",
       " 86,\n",
       " 87,\n",
       " 91,\n",
       " 99,\n",
       " 100,\n",
       " 101,\n",
       " 103,\n",
       " 105,\n",
       " 108,\n",
       " 109,\n",
       " 110,\n",
       " 111,\n",
       " 113,\n",
       " 114,\n",
       " 115,\n",
       " 120,\n",
       " 122,\n",
       " 130,\n",
       " 131,\n",
       " 133,\n",
       " 137,\n",
       " 151,\n",
       " 152,\n",
       " 158,\n",
       " 161,\n",
       " 167,\n",
       " 171,\n",
       " 174,\n",
       " 176,\n",
       " 179,\n",
       " 180,\n",
       " 181,\n",
       " 187,\n",
       " 188,\n",
       " 196,\n",
       " 198,\n",
       " 199,\n",
       " 200,\n",
       " 202,\n",
       " 203,\n",
       " 204,\n",
       " 207,\n",
       " 208,\n",
       " 210,\n",
       " 212,\n",
       " 214,\n",
       " 219,\n",
       " 224,\n",
       " 226,\n",
       " 232,\n",
       " 234,\n",
       " 237,\n",
       " 239,\n",
       " 242,\n",
       " 245,\n",
       " 246,\n",
       " 249,\n",
       " 253,\n",
       " 254,\n",
       " 255,\n",
       " 259,\n",
       " 265,\n",
       " 268,\n",
       " 269,\n",
       " 270,\n",
       " 287,\n",
       " 297,\n",
       " 300,\n",
       " 305,\n",
       " 317,\n",
       " 323,\n",
       " 324,\n",
       " 325,\n",
       " 334,\n",
       " 337,\n",
       " 348,\n",
       " 350,\n",
       " 351,\n",
       " 353,\n",
       " 355,\n",
       " 361,\n",
       " 363,\n",
       " 364,\n",
       " 368,\n",
       " 371,\n",
       " 375,\n",
       " 376,\n",
       " 377,\n",
       " 378,\n",
       " 385,\n",
       " 386,\n",
       " 389,\n",
       " 390,\n",
       " 391,\n",
       " 392,\n",
       " 393,\n",
       " 405,\n",
       " 406,\n",
       " 408,\n",
       " 409,\n",
       " 410,\n",
       " 413,\n",
       " 414]"
      ]
     },
     "execution_count": 76,
     "metadata": {},
     "output_type": "execute_result"
    }
   ],
   "source": [
    "data_train_balanced.index.to_list()"
   ]
  },
  {
   "cell_type": "code",
   "execution_count": 72,
   "id": "86d73013-f51b-4ea4-9614-bf230e88fd4f",
   "metadata": {},
   "outputs": [],
   "source": [
    "#X_train, X_test, y_train, y_test = train_test_split(data_train_balanced, data_train_balanced[att_target], test_size=0.15, stratify=data_train_balanced['target'].values)\n",
    "X_train, X_test, y_train, y_test = train_test_split(data_train_balanced, data_train_balanced[att_target], test_size=0.15, stratify=data_train_balanced['target'].values)"
   ]
  },
  {
   "cell_type": "code",
   "execution_count": 73,
   "id": "449a6428-a4e6-4854-b04e-fd570aaeae37",
   "metadata": {},
   "outputs": [
    {
     "data": {
      "text/plain": [
       "Counter({'Thrombosis': 114, 'Non_thrombosis': 113})"
      ]
     },
     "execution_count": 73,
     "metadata": {},
     "output_type": "execute_result"
    }
   ],
   "source": [
    "Counter(y_train)"
   ]
  },
  {
   "cell_type": "code",
   "execution_count": 74,
   "id": "75d36f90-ec68-4664-9e14-3246875a1ef9",
   "metadata": {},
   "outputs": [
    {
     "data": {
      "text/plain": [
       "Counter({'Non_thrombosis': 21, 'Thrombosis': 20})"
      ]
     },
     "execution_count": 74,
     "metadata": {},
     "output_type": "execute_result"
    }
   ],
   "source": [
    "Counter(y_test)"
   ]
  },
  {
   "cell_type": "code",
   "execution_count": null,
   "id": "edaffa3b-3b26-4289-b6fa-69c1292c062d",
   "metadata": {},
   "outputs": [],
   "source": [
    "\n",
    "if __name__ == '__main__':\n",
    "\n",
    "    log.info('Process A')\n",
    "    process_A()\n",
    "    log.info('Finished A')"
   ]
  }
 ],
 "metadata": {
  "kernelspec": {
   "display_name": "Python 3",
   "language": "python",
   "name": "python3"
  },
  "language_info": {
   "codemirror_mode": {
    "name": "ipython",
    "version": 3
   },
   "file_extension": ".py",
   "mimetype": "text/x-python",
   "name": "python",
   "nbconvert_exporter": "python",
   "pygments_lexer": "ipython3",
   "version": "3.8.10"
  }
 },
 "nbformat": 4,
 "nbformat_minor": 5
}
